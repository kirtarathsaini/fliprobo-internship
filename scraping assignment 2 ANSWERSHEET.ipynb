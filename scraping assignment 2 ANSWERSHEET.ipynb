{
 "cells": [
  {
   "cell_type": "markdown",
   "id": "27a52732",
   "metadata": {},
   "source": [
    "# SCRAPING ASSIGNMENT-2"
   ]
  },
  {
   "cell_type": "code",
   "execution_count": 1,
   "id": "6bc93bc0",
   "metadata": {},
   "outputs": [
    {
     "name": "stdout",
     "output_type": "stream",
     "text": [
      "Requirement already satisfied: selenium in c:\\users\\hp\\anaconda3\\lib\\site-packages (4.4.0)\n",
      "Requirement already satisfied: trio~=0.17 in c:\\users\\hp\\anaconda3\\lib\\site-packages (from selenium) (0.21.0)\n",
      "Requirement already satisfied: trio-websocket~=0.9 in c:\\users\\hp\\anaconda3\\lib\\site-packages (from selenium) (0.9.2)\n",
      "Requirement already satisfied: urllib3[secure,socks]~=1.26 in c:\\users\\hp\\anaconda3\\lib\\site-packages (from selenium) (1.26.7)\n",
      "Requirement already satisfied: cffi>=1.14 in c:\\users\\hp\\anaconda3\\lib\\site-packages (from trio~=0.17->selenium) (1.14.6)\n",
      "Requirement already satisfied: sortedcontainers in c:\\users\\hp\\anaconda3\\lib\\site-packages (from trio~=0.17->selenium) (2.4.0)\n",
      "Requirement already satisfied: attrs>=19.2.0 in c:\\users\\hp\\anaconda3\\lib\\site-packages (from trio~=0.17->selenium) (21.2.0)\n",
      "Requirement already satisfied: async-generator>=1.9 in c:\\users\\hp\\anaconda3\\lib\\site-packages (from trio~=0.17->selenium) (1.10)\n",
      "Requirement already satisfied: outcome in c:\\users\\hp\\anaconda3\\lib\\site-packages (from trio~=0.17->selenium) (1.2.0)\n",
      "Requirement already satisfied: idna in c:\\users\\hp\\anaconda3\\lib\\site-packages (from trio~=0.17->selenium) (3.2)\n",
      "Requirement already satisfied: sniffio in c:\\users\\hp\\anaconda3\\lib\\site-packages (from trio~=0.17->selenium) (1.2.0)\n",
      "Requirement already satisfied: pycparser in c:\\users\\hp\\anaconda3\\lib\\site-packages (from cffi>=1.14->trio~=0.17->selenium) (2.20)\n",
      "Requirement already satisfied: wsproto>=0.14 in c:\\users\\hp\\anaconda3\\lib\\site-packages (from trio-websocket~=0.9->selenium) (1.1.0)\n",
      "Requirement already satisfied: PySocks!=1.5.7,<2.0,>=1.5.6 in c:\\users\\hp\\anaconda3\\lib\\site-packages (from urllib3[secure,socks]~=1.26->selenium) (1.7.1)\n",
      "Requirement already satisfied: pyOpenSSL>=0.14 in c:\\users\\hp\\anaconda3\\lib\\site-packages (from urllib3[secure,socks]~=1.26->selenium) (21.0.0)\n",
      "Requirement already satisfied: cryptography>=1.3.4 in c:\\users\\hp\\anaconda3\\lib\\site-packages (from urllib3[secure,socks]~=1.26->selenium) (3.4.8)\n",
      "Requirement already satisfied: certifi in c:\\users\\hp\\anaconda3\\lib\\site-packages (from urllib3[secure,socks]~=1.26->selenium) (2021.10.8)\n",
      "Requirement already satisfied: six>=1.5.2 in c:\\users\\hp\\anaconda3\\lib\\site-packages (from pyOpenSSL>=0.14->urllib3[secure,socks]~=1.26->selenium) (1.16.0)\n",
      "Requirement already satisfied: h11<1,>=0.9.0 in c:\\users\\hp\\anaconda3\\lib\\site-packages (from wsproto>=0.14->trio-websocket~=0.9->selenium) (0.13.0)\n"
     ]
    }
   ],
   "source": [
    "#installing selenium\n",
    "!pip install selenium"
   ]
  },
  {
   "cell_type": "markdown",
   "id": "ed3d39b1",
   "metadata": {},
   "source": [
    "ANSWER-1"
   ]
  },
  {
   "cell_type": "code",
   "execution_count": 113,
   "id": "b0d813d5",
   "metadata": {},
   "outputs": [],
   "source": [
    "#importing all the important libraries.\n",
    "\n",
    "import selenium\n",
    "import pandas as pd\n",
    "from selenium import webdriver\n",
    "import warnings\n",
    "warnings.filterwarnings('ignore')\n",
    "from selenium.common.exceptions import StaleElementReferenceException, NoSuchElementException\n",
    "from selenium.webdriver.common.by import By\n",
    "import time"
   ]
  },
  {
   "cell_type": "code",
   "execution_count": 114,
   "id": "6f6cb0c7",
   "metadata": {},
   "outputs": [],
   "source": [
    "#calling webdriver chrome in driver variable.\n",
    "\n",
    "drive=webdriver.Chrome(r'C:\\Users\\HP\\Downloads\\chromedriver_win32\\chromedriver.exe')"
   ]
  },
  {
   "cell_type": "code",
   "execution_count": 115,
   "id": "a8694810",
   "metadata": {},
   "outputs": [],
   "source": [
    "#getting all the data of site on the driver or we can say opening the link.\n",
    "\n",
    "drive.get('https://www.naukri.com/')"
   ]
  },
  {
   "cell_type": "code",
   "execution_count": 116,
   "id": "344129a3",
   "metadata": {},
   "outputs": [],
   "source": [
    "#sending data analyst in field of designation using code .\n",
    "\n",
    "designation=drive.find_element(By.CLASS_NAME,\"suggestor-input \")\n",
    "designation.send_keys('Data Analyst')"
   ]
  },
  {
   "cell_type": "code",
   "execution_count": 117,
   "id": "24c68318",
   "metadata": {},
   "outputs": [],
   "source": [
    "#sending bangalore in the location field.\n",
    "\n",
    "location=drive.find_element(By.XPATH,'/html/body/div[1]/div[2]/div[3]/div/div/div[5]/div/div/div/input')\n",
    "location.send_keys('Bangalore')"
   ]
  },
  {
   "cell_type": "code",
   "execution_count": 118,
   "id": "0fccc70e",
   "metadata": {},
   "outputs": [],
   "source": [
    "#clicking on the search button using code.\n",
    "\n",
    "search=drive.find_element(By.CLASS_NAME,'qsbSubmit')\n",
    "search.click()"
   ]
  },
  {
   "cell_type": "code",
   "execution_count": 119,
   "id": "8a17db05",
   "metadata": {},
   "outputs": [],
   "source": [
    "#scraping job title.\n",
    "\n",
    "job_title=[]\n",
    "title_tags=drive.find_elements(By.XPATH,'//a[@class=\"title fw500 ellipsis\"]')\n",
    "for i in title_tags[0:10]:\n",
    "    title=i.text\n",
    "    job_title.append(title)"
   ]
  },
  {
   "cell_type": "code",
   "execution_count": 120,
   "id": "01fc1e9c",
   "metadata": {},
   "outputs": [],
   "source": [
    "#scraping location of job.\n",
    "\n",
    "job_location=[]\n",
    "location_tags=drive.find_elements(By.XPATH,'//li[@class=\"fleft grey-text br2 placeHolderLi location\"]')\n",
    "for i in location_tags[0:10]:\n",
    "    location=i.text\n",
    "    job_location.append(location)"
   ]
  },
  {
   "cell_type": "code",
   "execution_count": 121,
   "id": "4906c735",
   "metadata": {},
   "outputs": [],
   "source": [
    "#scraping experience required for the job.\n",
    "\n",
    "job_exp=[]\n",
    "exp_tags=drive.find_elements(By.XPATH,'//li[@class=\"fleft grey-text br2 placeHolderLi experience\"]')\n",
    "for i in exp_tags[0:10]:\n",
    "    exp=i.text\n",
    "    job_exp.append(exp)"
   ]
  },
  {
   "cell_type": "code",
   "execution_count": 122,
   "id": "74399e24",
   "metadata": {},
   "outputs": [],
   "source": [
    "#scraping companies name.\n",
    "\n",
    "company=[]\n",
    "com_tags=drive.find_elements(By.XPATH,'//a[@class=\"subTitle ellipsis fleft\"]')\n",
    "for i in com_tags[0:10]:\n",
    "    compan=i.text\n",
    "    company.append(compan)"
   ]
  },
  {
   "cell_type": "code",
   "execution_count": 123,
   "id": "2c56f719",
   "metadata": {},
   "outputs": [
    {
     "name": "stdout",
     "output_type": "stream",
     "text": [
      "10 10 10 10\n"
     ]
    }
   ],
   "source": [
    "#checking the length of the variables .\n",
    "\n",
    "print(len(job_title),len(job_location),len(job_exp),len(company))"
   ]
  },
  {
   "cell_type": "code",
   "execution_count": 124,
   "id": "9ab97647",
   "metadata": {},
   "outputs": [
    {
     "data": {
      "text/html": [
       "<div>\n",
       "<style scoped>\n",
       "    .dataframe tbody tr th:only-of-type {\n",
       "        vertical-align: middle;\n",
       "    }\n",
       "\n",
       "    .dataframe tbody tr th {\n",
       "        vertical-align: top;\n",
       "    }\n",
       "\n",
       "    .dataframe thead th {\n",
       "        text-align: right;\n",
       "    }\n",
       "</style>\n",
       "<table border=\"1\" class=\"dataframe\">\n",
       "  <thead>\n",
       "    <tr style=\"text-align: right;\">\n",
       "      <th></th>\n",
       "      <th>JOB_TITLE</th>\n",
       "      <th>JOB_LOCATION</th>\n",
       "      <th>EXPERIENCE_REQ</th>\n",
       "      <th>company</th>\n",
       "    </tr>\n",
       "  </thead>\n",
       "  <tbody>\n",
       "    <tr>\n",
       "      <th>0</th>\n",
       "      <td>Tcs Hiring For Data Scientist</td>\n",
       "      <td>Bangalore/Bengaluru, Chennai, Mumbai (All Areas)</td>\n",
       "      <td>0-2 Yrs</td>\n",
       "      <td>iMindYourBusiness</td>\n",
       "    </tr>\n",
       "    <tr>\n",
       "      <th>1</th>\n",
       "      <td>Senior Manager - EmTech - Machine Learning - P&amp;T</td>\n",
       "      <td>Bangalore/Bengaluru, Mumbai, Hyderabad/Secunde...</td>\n",
       "      <td>3-6 Yrs</td>\n",
       "      <td>KrazyBee</td>\n",
       "    </tr>\n",
       "    <tr>\n",
       "      <th>2</th>\n",
       "      <td>Assistant Manager - Data Science</td>\n",
       "      <td>Bangalore/Bengaluru, Mumbai, Pune</td>\n",
       "      <td>6-11 Yrs</td>\n",
       "      <td>Global Indian School Education Services</td>\n",
       "    </tr>\n",
       "    <tr>\n",
       "      <th>3</th>\n",
       "      <td>Analystics &amp; Modeling Specialist</td>\n",
       "      <td>Bangalore/Bengaluru, Kolkata, Mumbai, Hyderaba...</td>\n",
       "      <td>6-8 Yrs</td>\n",
       "      <td>Accenture</td>\n",
       "    </tr>\n",
       "    <tr>\n",
       "      <th>4</th>\n",
       "      <td>Data scientist _Tata Consultancy Services(Tcs)</td>\n",
       "      <td>Bangalore/Bengaluru, Kochi/Cochin, Indore, New...</td>\n",
       "      <td>2-4 Yrs</td>\n",
       "      <td>Samaira HR Solutions</td>\n",
       "    </tr>\n",
       "    <tr>\n",
       "      <th>5</th>\n",
       "      <td>Job||Job Opening For AI Technologist - Data Sc...</td>\n",
       "      <td>Bangalore/Bengaluru, New Delhi, Hyderabad/Secu...</td>\n",
       "      <td>5-7 Yrs</td>\n",
       "      <td>Optum</td>\n",
       "    </tr>\n",
       "    <tr>\n",
       "      <th>6</th>\n",
       "      <td>Hiring For DATA Scientist @ NTT DATA Business ...</td>\n",
       "      <td>Bangalore/Bengaluru, Noida, Hyderabad/Secunder...</td>\n",
       "      <td>0-2 Yrs</td>\n",
       "      <td>Bright Money</td>\n",
       "    </tr>\n",
       "    <tr>\n",
       "      <th>7</th>\n",
       "      <td>Urgent Job Opening For AI Practitioner - Data ...</td>\n",
       "      <td>Bangalore/Bengaluru, Kochi/Cochin, New Delhi, ...</td>\n",
       "      <td>0-1 Yrs</td>\n",
       "      <td>Info Origin Inc.</td>\n",
       "    </tr>\n",
       "    <tr>\n",
       "      <th>8</th>\n",
       "      <td>Data Scientist</td>\n",
       "      <td>Bangalore/Bengaluru</td>\n",
       "      <td>3-8 Yrs</td>\n",
       "      <td>Concentrix</td>\n",
       "    </tr>\n",
       "    <tr>\n",
       "      <th>9</th>\n",
       "      <td>Forecasting Analyst/ Data Scientist (US Client)</td>\n",
       "      <td>Bangalore/Bengaluru, Gurgaon/Gurugram\\n(WFH du...</td>\n",
       "      <td>0-2 Yrs</td>\n",
       "      <td>Allegis Services India Pvt. Ltd.</td>\n",
       "    </tr>\n",
       "  </tbody>\n",
       "</table>\n",
       "</div>"
      ],
      "text/plain": [
       "                                           JOB_TITLE  \\\n",
       "0                      Tcs Hiring For Data Scientist   \n",
       "1   Senior Manager - EmTech - Machine Learning - P&T   \n",
       "2                   Assistant Manager - Data Science   \n",
       "3                   Analystics & Modeling Specialist   \n",
       "4     Data scientist _Tata Consultancy Services(Tcs)   \n",
       "5  Job||Job Opening For AI Technologist - Data Sc...   \n",
       "6  Hiring For DATA Scientist @ NTT DATA Business ...   \n",
       "7  Urgent Job Opening For AI Practitioner - Data ...   \n",
       "8                                     Data Scientist   \n",
       "9    Forecasting Analyst/ Data Scientist (US Client)   \n",
       "\n",
       "                                        JOB_LOCATION EXPERIENCE_REQ  \\\n",
       "0   Bangalore/Bengaluru, Chennai, Mumbai (All Areas)        0-2 Yrs   \n",
       "1  Bangalore/Bengaluru, Mumbai, Hyderabad/Secunde...        3-6 Yrs   \n",
       "2                  Bangalore/Bengaluru, Mumbai, Pune       6-11 Yrs   \n",
       "3  Bangalore/Bengaluru, Kolkata, Mumbai, Hyderaba...        6-8 Yrs   \n",
       "4  Bangalore/Bengaluru, Kochi/Cochin, Indore, New...        2-4 Yrs   \n",
       "5  Bangalore/Bengaluru, New Delhi, Hyderabad/Secu...        5-7 Yrs   \n",
       "6  Bangalore/Bengaluru, Noida, Hyderabad/Secunder...        0-2 Yrs   \n",
       "7  Bangalore/Bengaluru, Kochi/Cochin, New Delhi, ...        0-1 Yrs   \n",
       "8                                Bangalore/Bengaluru        3-8 Yrs   \n",
       "9  Bangalore/Bengaluru, Gurgaon/Gurugram\\n(WFH du...        0-2 Yrs   \n",
       "\n",
       "                                   company  \n",
       "0                        iMindYourBusiness  \n",
       "1                                 KrazyBee  \n",
       "2  Global Indian School Education Services  \n",
       "3                                Accenture  \n",
       "4                     Samaira HR Solutions  \n",
       "5                                    Optum  \n",
       "6                             Bright Money  \n",
       "7                         Info Origin Inc.  \n",
       "8                               Concentrix  \n",
       "9         Allegis Services India Pvt. Ltd.  "
      ]
     },
     "execution_count": 124,
     "metadata": {},
     "output_type": "execute_result"
    }
   ],
   "source": [
    "#creating dataframe using pandas for the data collected from the page.\n",
    "\n",
    "import pandas as pd\n",
    "table=pd.DataFrame({'JOB_TITLE':job_name,'JOB_LOCATION':job_loc,'EXPERIENCE_REQ':job_exp,'company':company})\n",
    "table"
   ]
  },
  {
   "cell_type": "code",
   "execution_count": null,
   "id": "c91439c1",
   "metadata": {},
   "outputs": [],
   "source": []
  },
  {
   "cell_type": "code",
   "execution_count": null,
   "id": "876ae82c",
   "metadata": {},
   "outputs": [],
   "source": []
  },
  {
   "cell_type": "markdown",
   "id": "36332515",
   "metadata": {},
   "source": [
    "ANSWER-2"
   ]
  },
  {
   "cell_type": "code",
   "execution_count": 80,
   "id": "c28ddad9",
   "metadata": {},
   "outputs": [],
   "source": [
    "#importing all the important libraries.\n",
    "\n",
    "import selenium\n",
    "import pandas as pd\n",
    "from selenium import webdriver\n",
    "import warnings\n",
    "warnings.filterwarnings('ignore')\n",
    "from selenium.webdriver.common.by import By\n",
    "import time\n",
    "from selenium.common.exceptions import StaleElementReferenceException, NoSuchElementException"
   ]
  },
  {
   "cell_type": "code",
   "execution_count": 81,
   "id": "b5668ee5",
   "metadata": {},
   "outputs": [],
   "source": [
    "#calling webdriver chrome in driver variable.\n",
    "driver=webdriver.Chrome(r'chromedriver.exe')"
   ]
  },
  {
   "cell_type": "code",
   "execution_count": 82,
   "id": "eb14ae30",
   "metadata": {},
   "outputs": [],
   "source": [
    "#getting all the data of site on the driver or we can say opening the link.\n",
    "\n",
    "driver.get('https://www.naukri.com/')"
   ]
  },
  {
   "cell_type": "code",
   "execution_count": 87,
   "id": "0efaa879",
   "metadata": {},
   "outputs": [],
   "source": [
    "#sending data scientist in field of designation using code .\n",
    "\n",
    "designation=driver.find_element(By.CLASS_NAME,\"suggestor-input \")\n",
    "designation.send_keys('Data Scientist')"
   ]
  },
  {
   "cell_type": "code",
   "execution_count": 88,
   "id": "7c16f0f6",
   "metadata": {},
   "outputs": [],
   "source": [
    "#sending bangalore in the location field.\n",
    "\n",
    "location=driver.find_element(By.XPATH,'/html/body/div[1]/div[2]/div[3]/div/div/div[5]/div/div/div/input')\n",
    "location.send_keys('bangalore')"
   ]
  },
  {
   "cell_type": "code",
   "execution_count": 90,
   "id": "5addb920",
   "metadata": {},
   "outputs": [],
   "source": [
    "#clicking on the search button using code.\n",
    "\n",
    "search=driver.find_element(By.CLASS_NAME,'qsbSubmit')\n",
    "search.click()"
   ]
  },
  {
   "cell_type": "code",
   "execution_count": 93,
   "id": "cc60ff6d",
   "metadata": {},
   "outputs": [],
   "source": [
    "#scraping job name.\n",
    "\n",
    "job_name=[]\n",
    "title_tags=driver.find_elements(By.XPATH,'//a[@class=\"title fw500 ellipsis\"]')\n",
    "for i in title_tags[0:10]:\n",
    "    job_name.append(i.text)"
   ]
  },
  {
   "cell_type": "code",
   "execution_count": 94,
   "id": "0f1e980e",
   "metadata": {},
   "outputs": [],
   "source": [
    "#scraping job location.\n",
    "\n",
    "job_loc=[]\n",
    "loc_tags=driver.find_elements(By.XPATH,'//li[@class=\"fleft grey-text br2 placeHolderLi location\"]')\n",
    "for i in loc_tags[0:10]:\n",
    "    job_loc.append(i.text)"
   ]
  },
  {
   "cell_type": "code",
   "execution_count": 95,
   "id": "d86fec5a",
   "metadata": {},
   "outputs": [],
   "source": [
    "#scraping company name.\n",
    "\n",
    "company=[]\n",
    "com_tags=driver.find_elements(By.XPATH,'//a[@class=\"subTitle ellipsis fleft\"]')\n",
    "for i in com_tags[0:10]:\n",
    "    company.append(i.text)"
   ]
  },
  {
   "cell_type": "code",
   "execution_count": 96,
   "id": "57563081",
   "metadata": {},
   "outputs": [
    {
     "name": "stdout",
     "output_type": "stream",
     "text": [
      "10 10 10\n"
     ]
    }
   ],
   "source": [
    "#checking the length of the variables .\n",
    "\n",
    "print(len(job_name),len(job_loc),len(company))"
   ]
  },
  {
   "cell_type": "code",
   "execution_count": 97,
   "id": "93ba4e82",
   "metadata": {},
   "outputs": [
    {
     "data": {
      "text/html": [
       "<div>\n",
       "<style scoped>\n",
       "    .dataframe tbody tr th:only-of-type {\n",
       "        vertical-align: middle;\n",
       "    }\n",
       "\n",
       "    .dataframe tbody tr th {\n",
       "        vertical-align: top;\n",
       "    }\n",
       "\n",
       "    .dataframe thead th {\n",
       "        text-align: right;\n",
       "    }\n",
       "</style>\n",
       "<table border=\"1\" class=\"dataframe\">\n",
       "  <thead>\n",
       "    <tr style=\"text-align: right;\">\n",
       "      <th></th>\n",
       "      <th>job_name</th>\n",
       "      <th>job_loc</th>\n",
       "      <th>company</th>\n",
       "    </tr>\n",
       "  </thead>\n",
       "  <tbody>\n",
       "    <tr>\n",
       "      <th>0</th>\n",
       "      <td>Tcs Hiring For Data Scientist</td>\n",
       "      <td>Bangalore/Bengaluru, Chennai, Mumbai (All Areas)</td>\n",
       "      <td>TATA CONSULTANCY SERVICES (TCS)</td>\n",
       "    </tr>\n",
       "    <tr>\n",
       "      <th>1</th>\n",
       "      <td>Senior Manager - EmTech - Machine Learning - P&amp;T</td>\n",
       "      <td>Bangalore/Bengaluru, Mumbai, Hyderabad/Secunde...</td>\n",
       "      <td>PwC</td>\n",
       "    </tr>\n",
       "    <tr>\n",
       "      <th>2</th>\n",
       "      <td>Assistant Manager - Data Science</td>\n",
       "      <td>Bangalore/Bengaluru, Mumbai, Pune</td>\n",
       "      <td>CitiusTech</td>\n",
       "    </tr>\n",
       "    <tr>\n",
       "      <th>3</th>\n",
       "      <td>Analystics &amp; Modeling Specialist</td>\n",
       "      <td>Bangalore/Bengaluru, Kolkata, Mumbai, Hyderaba...</td>\n",
       "      <td>Accenture</td>\n",
       "    </tr>\n",
       "    <tr>\n",
       "      <th>4</th>\n",
       "      <td>Data scientist _Tata Consultancy Services(Tcs)</td>\n",
       "      <td>Bangalore/Bengaluru, Kochi/Cochin, Indore, New...</td>\n",
       "      <td>TATA CONSULTANCY SERVICES (TCS)</td>\n",
       "    </tr>\n",
       "    <tr>\n",
       "      <th>5</th>\n",
       "      <td>Job||Job Opening For AI Technologist - Data Sc...</td>\n",
       "      <td>Bangalore/Bengaluru, New Delhi, Hyderabad/Secu...</td>\n",
       "      <td>Wipro</td>\n",
       "    </tr>\n",
       "    <tr>\n",
       "      <th>6</th>\n",
       "      <td>Hiring For DATA Scientist @ NTT DATA Business ...</td>\n",
       "      <td>Bangalore/Bengaluru, Noida, Hyderabad/Secunder...</td>\n",
       "      <td>NTT DATA Business Solutions Private Limited</td>\n",
       "    </tr>\n",
       "    <tr>\n",
       "      <th>7</th>\n",
       "      <td>Urgent Job Opening For AI Practitioner - Data ...</td>\n",
       "      <td>Bangalore/Bengaluru, Kochi/Cochin, New Delhi, ...</td>\n",
       "      <td>Wipro</td>\n",
       "    </tr>\n",
       "    <tr>\n",
       "      <th>8</th>\n",
       "      <td>Data Scientist</td>\n",
       "      <td>Bangalore/Bengaluru</td>\n",
       "      <td>Concentrix</td>\n",
       "    </tr>\n",
       "    <tr>\n",
       "      <th>9</th>\n",
       "      <td>Forecasting Analyst/ Data Scientist (US Client)</td>\n",
       "      <td>Bangalore/Bengaluru, Gurgaon/Gurugram\\n(WFH du...</td>\n",
       "      <td>Concentrix</td>\n",
       "    </tr>\n",
       "  </tbody>\n",
       "</table>\n",
       "</div>"
      ],
      "text/plain": [
       "                                            job_name  \\\n",
       "0                      Tcs Hiring For Data Scientist   \n",
       "1   Senior Manager - EmTech - Machine Learning - P&T   \n",
       "2                   Assistant Manager - Data Science   \n",
       "3                   Analystics & Modeling Specialist   \n",
       "4     Data scientist _Tata Consultancy Services(Tcs)   \n",
       "5  Job||Job Opening For AI Technologist - Data Sc...   \n",
       "6  Hiring For DATA Scientist @ NTT DATA Business ...   \n",
       "7  Urgent Job Opening For AI Practitioner - Data ...   \n",
       "8                                     Data Scientist   \n",
       "9    Forecasting Analyst/ Data Scientist (US Client)   \n",
       "\n",
       "                                             job_loc  \\\n",
       "0   Bangalore/Bengaluru, Chennai, Mumbai (All Areas)   \n",
       "1  Bangalore/Bengaluru, Mumbai, Hyderabad/Secunde...   \n",
       "2                  Bangalore/Bengaluru, Mumbai, Pune   \n",
       "3  Bangalore/Bengaluru, Kolkata, Mumbai, Hyderaba...   \n",
       "4  Bangalore/Bengaluru, Kochi/Cochin, Indore, New...   \n",
       "5  Bangalore/Bengaluru, New Delhi, Hyderabad/Secu...   \n",
       "6  Bangalore/Bengaluru, Noida, Hyderabad/Secunder...   \n",
       "7  Bangalore/Bengaluru, Kochi/Cochin, New Delhi, ...   \n",
       "8                                Bangalore/Bengaluru   \n",
       "9  Bangalore/Bengaluru, Gurgaon/Gurugram\\n(WFH du...   \n",
       "\n",
       "                                       company  \n",
       "0              TATA CONSULTANCY SERVICES (TCS)  \n",
       "1                                          PwC  \n",
       "2                                   CitiusTech  \n",
       "3                                    Accenture  \n",
       "4              TATA CONSULTANCY SERVICES (TCS)  \n",
       "5                                        Wipro  \n",
       "6  NTT DATA Business Solutions Private Limited  \n",
       "7                                        Wipro  \n",
       "8                                   Concentrix  \n",
       "9                                   Concentrix  "
      ]
     },
     "execution_count": 97,
     "metadata": {},
     "output_type": "execute_result"
    }
   ],
   "source": [
    "#creating dataframe from the data collected.\n",
    "\n",
    "table=pd.DataFrame({'job_name':job_name,'job_loc':job_loc,'company':company})\n",
    "table"
   ]
  },
  {
   "cell_type": "code",
   "execution_count": null,
   "id": "93431ad7",
   "metadata": {},
   "outputs": [],
   "source": []
  },
  {
   "cell_type": "code",
   "execution_count": null,
   "id": "7d650207",
   "metadata": {},
   "outputs": [],
   "source": []
  },
  {
   "cell_type": "markdown",
   "id": "b8c034d0",
   "metadata": {},
   "source": [
    "ANSWER-3"
   ]
  },
  {
   "cell_type": "code",
   "execution_count": 14,
   "id": "55d6406d",
   "metadata": {},
   "outputs": [],
   "source": [
    "#importing all the important libraries.\n",
    "\n",
    "import selenium\n",
    "import pandas as pd \n",
    "import time\n",
    "import warnings\n",
    "warnings.filterwarnings('ignore')\n",
    "from selenium import webdriver\n",
    "from selenium.webdriver.common.by import By\n",
    "from selenium.common.exceptions import StaleElementReferenceException, NoSuchElementException\n"
   ]
  },
  {
   "cell_type": "code",
   "execution_count": 15,
   "id": "974ed67c",
   "metadata": {},
   "outputs": [],
   "source": [
    "#calling webdriver chrome in driver variable.\n",
    "driver=webdriver.Chrome(r'chromedriver.exe')"
   ]
  },
  {
   "cell_type": "code",
   "execution_count": 16,
   "id": "aa07883e",
   "metadata": {},
   "outputs": [],
   "source": [
    "#getting all the data of site on the driver or we can say opening the link.\n",
    "\n",
    "driver.get('https://www.naukri.com/')"
   ]
  },
  {
   "cell_type": "code",
   "execution_count": 17,
   "id": "81cf71fb",
   "metadata": {},
   "outputs": [],
   "source": [
    "#sending data scientist in field of designation using code .\n",
    "\n",
    "designation=driver.find_element(By.CLASS_NAME,\"suggestor-input \")\n",
    "designation.send_keys('Data Scientist')"
   ]
  },
  {
   "cell_type": "code",
   "execution_count": 18,
   "id": "a0b78630",
   "metadata": {},
   "outputs": [],
   "source": [
    "#clicking on the search button using code.\n",
    "\n",
    "search=driver.find_element(By.CLASS_NAME,'qsbSubmit')\n",
    "search.click()"
   ]
  },
  {
   "cell_type": "code",
   "execution_count": 20,
   "id": "a71b8a60",
   "metadata": {},
   "outputs": [],
   "source": [
    "#clicking on the location filter.\n",
    "\n",
    "loc=driver.find_element(By.XPATH,'/html/body/div[1]/div[3]/div[2]/section[1]/div[2]/div[5]/div[2]/div[3]/label/i')\n",
    "loc.click()"
   ]
  },
  {
   "cell_type": "code",
   "execution_count": 21,
   "id": "116e8366",
   "metadata": {},
   "outputs": [],
   "source": [
    "#clicking on the salary filter.\n",
    "\n",
    "sal=driver.find_element(By.XPATH,'/html/body/div[1]/div[3]/div[2]/section[1]/div[2]/div[6]/div[2]/div[2]/label/i')\n",
    "sal.click()"
   ]
  },
  {
   "cell_type": "code",
   "execution_count": 22,
   "id": "22ccd2a3",
   "metadata": {},
   "outputs": [],
   "source": [
    "#scraping job name using xpath\n",
    "\n",
    "job_name=[]\n",
    "title_tags=driver.find_elements(By.XPATH,'//a[@class=\"title fw500 ellipsis\"]')\n",
    "for i in title_tags[0:10]:\n",
    "    job_name.append(i.text)"
   ]
  },
  {
   "cell_type": "code",
   "execution_count": 23,
   "id": "752eb129",
   "metadata": {},
   "outputs": [],
   "source": [
    "#scraping location using xpath.\n",
    "\n",
    "loc=[]\n",
    "loc_tags=driver.find_elements(By.XPATH,'//li[@class=\"fleft grey-text br2 placeHolderLi location\"]')\n",
    "for i in loc_tags[0:10]:\n",
    "    loc.append(i.text)"
   ]
  },
  {
   "cell_type": "code",
   "execution_count": 24,
   "id": "2cef4672",
   "metadata": {},
   "outputs": [],
   "source": [
    "#scraping experience required using xpath.\n",
    "\n",
    "exp=[]\n",
    "exp_tags=driver.find_elements(By.XPATH,'//li[@class=\"fleft grey-text br2 placeHolderLi experience\"]')\n",
    "for i in exp_tags[0:10]:\n",
    "    exp.append(i.text)"
   ]
  },
  {
   "cell_type": "code",
   "execution_count": 25,
   "id": "815d8556",
   "metadata": {},
   "outputs": [],
   "source": [
    "#scraping companies name using xpath.\n",
    "\n",
    "company=[]\n",
    "com_tags=driver.find_elements(By.XPATH,'//a[@class=\"subTitle ellipsis fleft\"]')\n",
    "for i in com_tags[0:10]:\n",
    "    compan=i.text\n",
    "    company.append(compan)"
   ]
  },
  {
   "cell_type": "code",
   "execution_count": 26,
   "id": "85af4948",
   "metadata": {},
   "outputs": [
    {
     "name": "stdout",
     "output_type": "stream",
     "text": [
      "10 10 10 10\n"
     ]
    }
   ],
   "source": [
    "#checking the length of the variables .\n",
    "\n",
    "print(len(job_name),len(loc),len(exp),len(company))"
   ]
  },
  {
   "cell_type": "code",
   "execution_count": 27,
   "id": "833b3551",
   "metadata": {},
   "outputs": [
    {
     "data": {
      "text/html": [
       "<div>\n",
       "<style scoped>\n",
       "    .dataframe tbody tr th:only-of-type {\n",
       "        vertical-align: middle;\n",
       "    }\n",
       "\n",
       "    .dataframe tbody tr th {\n",
       "        vertical-align: top;\n",
       "    }\n",
       "\n",
       "    .dataframe thead th {\n",
       "        text-align: right;\n",
       "    }\n",
       "</style>\n",
       "<table border=\"1\" class=\"dataframe\">\n",
       "  <thead>\n",
       "    <tr style=\"text-align: right;\">\n",
       "      <th></th>\n",
       "      <th>JOB_TITLE</th>\n",
       "      <th>JOB_LOCATION</th>\n",
       "      <th>COMPANY_NAME</th>\n",
       "      <th>EXPERIENCE_REQUIRED</th>\n",
       "    </tr>\n",
       "  </thead>\n",
       "  <tbody>\n",
       "    <tr>\n",
       "      <th>0</th>\n",
       "      <td>Job||Job Opening For AI Technologist - Data Sc...</td>\n",
       "      <td>New Delhi, Hyderabad/Secunderabad, Pune, Chenn...</td>\n",
       "      <td>Wipro</td>\n",
       "      <td>5-10 Yrs</td>\n",
       "    </tr>\n",
       "    <tr>\n",
       "      <th>1</th>\n",
       "      <td>Data Scientist - Noida/Bangalore</td>\n",
       "      <td>Noida, Bangalore/Bengaluru</td>\n",
       "      <td>EXL</td>\n",
       "      <td>5-10 Yrs</td>\n",
       "    </tr>\n",
       "    <tr>\n",
       "      <th>2</th>\n",
       "      <td>DigitalBCG GAMMA Data Scientist</td>\n",
       "      <td>New Delhi, Bangalore/Bengaluru</td>\n",
       "      <td>Boston Consulting Group</td>\n",
       "      <td>2-5 Yrs</td>\n",
       "    </tr>\n",
       "    <tr>\n",
       "      <th>3</th>\n",
       "      <td>Data Scientist - Predictive Analytics</td>\n",
       "      <td>Noida, Mumbai, Chandigarh, Hyderabad/Secundera...</td>\n",
       "      <td>Confidential</td>\n",
       "      <td>1-6 Yrs</td>\n",
       "    </tr>\n",
       "    <tr>\n",
       "      <th>4</th>\n",
       "      <td>Data Scientist</td>\n",
       "      <td>Gurgaon/Gurugram</td>\n",
       "      <td>Optum</td>\n",
       "      <td>2-7 Yrs</td>\n",
       "    </tr>\n",
       "    <tr>\n",
       "      <th>5</th>\n",
       "      <td>Chat-bot Developer / Data Scientist</td>\n",
       "      <td>Mumbai, New Delhi, Bangalore/Bengaluru\\n(WFH d...</td>\n",
       "      <td>Big Seo Buzz</td>\n",
       "      <td>2-7 Yrs</td>\n",
       "    </tr>\n",
       "    <tr>\n",
       "      <th>6</th>\n",
       "      <td>Data Scientist / Chat-bot Developer</td>\n",
       "      <td>New Delhi, Bangalore/Bengaluru, Mumbai (All Ar...</td>\n",
       "      <td>Big Seo Buzz</td>\n",
       "      <td>3-7 Yrs</td>\n",
       "    </tr>\n",
       "    <tr>\n",
       "      <th>7</th>\n",
       "      <td>Data Scientist - Engine Algorithm</td>\n",
       "      <td>Delhi / NCR, Kolkata, Mumbai, Hyderabad/Secund...</td>\n",
       "      <td>Primo Hiring</td>\n",
       "      <td>1-3 Yrs</td>\n",
       "    </tr>\n",
       "    <tr>\n",
       "      <th>8</th>\n",
       "      <td>Data Scientist For Healthcare Product team</td>\n",
       "      <td>Delhi / NCR, Chennai, Bangalore/Bengaluru</td>\n",
       "      <td>SECUREKLOUD TECHNOLOGIES</td>\n",
       "      <td>2-7 Yrs</td>\n",
       "    </tr>\n",
       "    <tr>\n",
       "      <th>9</th>\n",
       "      <td>Data Scientist</td>\n",
       "      <td>Noida, Gurgaon/Gurugram, Jaipur</td>\n",
       "      <td>Celebal Technologies</td>\n",
       "      <td>1-5 Yrs</td>\n",
       "    </tr>\n",
       "  </tbody>\n",
       "</table>\n",
       "</div>"
      ],
      "text/plain": [
       "                                           JOB_TITLE  \\\n",
       "0  Job||Job Opening For AI Technologist - Data Sc...   \n",
       "1                   Data Scientist - Noida/Bangalore   \n",
       "2                    DigitalBCG GAMMA Data Scientist   \n",
       "3              Data Scientist - Predictive Analytics   \n",
       "4                                     Data Scientist   \n",
       "5                Chat-bot Developer / Data Scientist   \n",
       "6                Data Scientist / Chat-bot Developer   \n",
       "7                  Data Scientist - Engine Algorithm   \n",
       "8         Data Scientist For Healthcare Product team   \n",
       "9                                     Data Scientist   \n",
       "\n",
       "                                        JOB_LOCATION  \\\n",
       "0  New Delhi, Hyderabad/Secunderabad, Pune, Chenn...   \n",
       "1                         Noida, Bangalore/Bengaluru   \n",
       "2                     New Delhi, Bangalore/Bengaluru   \n",
       "3  Noida, Mumbai, Chandigarh, Hyderabad/Secundera...   \n",
       "4                                   Gurgaon/Gurugram   \n",
       "5  Mumbai, New Delhi, Bangalore/Bengaluru\\n(WFH d...   \n",
       "6  New Delhi, Bangalore/Bengaluru, Mumbai (All Ar...   \n",
       "7  Delhi / NCR, Kolkata, Mumbai, Hyderabad/Secund...   \n",
       "8          Delhi / NCR, Chennai, Bangalore/Bengaluru   \n",
       "9                    Noida, Gurgaon/Gurugram, Jaipur   \n",
       "\n",
       "               COMPANY_NAME EXPERIENCE_REQUIRED  \n",
       "0                     Wipro            5-10 Yrs  \n",
       "1                       EXL            5-10 Yrs  \n",
       "2   Boston Consulting Group             2-5 Yrs  \n",
       "3              Confidential             1-6 Yrs  \n",
       "4                     Optum             2-7 Yrs  \n",
       "5              Big Seo Buzz             2-7 Yrs  \n",
       "6              Big Seo Buzz             3-7 Yrs  \n",
       "7              Primo Hiring             1-3 Yrs  \n",
       "8  SECUREKLOUD TECHNOLOGIES             2-7 Yrs  \n",
       "9      Celebal Technologies             1-5 Yrs  "
      ]
     },
     "execution_count": 27,
     "metadata": {},
     "output_type": "execute_result"
    }
   ],
   "source": [
    "#creating dataframe from the data collected.\n",
    "\n",
    "data=pd.DataFrame({'JOB_TITLE':job_name,'JOB_LOCATION':loc,'COMPANY_NAME':company,'EXPERIENCE_REQUIRED':exp})\n",
    "data"
   ]
  },
  {
   "cell_type": "code",
   "execution_count": null,
   "id": "320e3c95",
   "metadata": {},
   "outputs": [],
   "source": []
  },
  {
   "cell_type": "code",
   "execution_count": null,
   "id": "99181d41",
   "metadata": {},
   "outputs": [],
   "source": []
  },
  {
   "cell_type": "markdown",
   "id": "d7b04316",
   "metadata": {},
   "source": [
    "ANSWER-4"
   ]
  },
  {
   "cell_type": "code",
   "execution_count": 146,
   "id": "4184d15c",
   "metadata": {},
   "outputs": [],
   "source": [
    "#importing all the important libraries.\n",
    "\n",
    "import selenium\n",
    "import pandas as pd\n",
    "import time \n",
    "from selenium import webdriver\n",
    "from selenium.webdriver.common.by import By\n",
    "import warnings\n",
    "warnings.filterwarnings('ignore')\n",
    "from selenium.common.exceptions import StaleElementReferenceException, NoSuchElementException"
   ]
  },
  {
   "cell_type": "code",
   "execution_count": 170,
   "id": "61726720",
   "metadata": {},
   "outputs": [],
   "source": [
    "#calling webdriver chrome in dr variable.\n",
    "\n",
    "dr=webdriver.Chrome(r'chromedriver.exe')"
   ]
  },
  {
   "cell_type": "code",
   "execution_count": 171,
   "id": "baeeb7f1",
   "metadata": {},
   "outputs": [],
   "source": [
    "#getting all the data of site on the dr or we can say opening the link.\n",
    "\n",
    "dr.get(' https://www.flipkart.com')"
   ]
  },
  {
   "cell_type": "code",
   "execution_count": 172,
   "id": "2c6b5b3c",
   "metadata": {},
   "outputs": [],
   "source": [
    "#sending sunglasses text into the search field using code.\n",
    "\n",
    "product=dr.find_element(By.XPATH,'/html/body/div[1]/div/div[1]/div[1]/div[2]/div[2]/form/div/div/input')\n",
    "product.send_keys('Sunglasses')"
   ]
  },
  {
   "cell_type": "code",
   "execution_count": 173,
   "id": "4e9454d1",
   "metadata": {},
   "outputs": [],
   "source": [
    "#clicking on the search button using code.\n",
    "\n",
    "search=dr.find_element(By.CLASS_NAME,\"L0Z3Pu\")\n",
    "search.click()"
   ]
  },
  {
   "cell_type": "code",
   "execution_count": 174,
   "id": "ddaa31bc",
   "metadata": {},
   "outputs": [],
   "source": [
    "#scraping brand name using xpath.\n",
    "\n",
    "brand=[]\n",
    "b_tag=dr.find_elements(By.XPATH,'//div[@class=\"_2WkVRV\"]')\n",
    "for i in b_tag:\n",
    "    brand.append(i.text)\n"
   ]
  },
  {
   "cell_type": "code",
   "execution_count": 175,
   "id": "44f5d79f",
   "metadata": {},
   "outputs": [],
   "source": [
    "#scraping price using xpath.\n",
    "\n",
    "price=[]\n",
    "p_tag=dr.find_elements(By.XPATH,'//div[@class=\"_30jeq3\"]')\n",
    "for i in p_tag:\n",
    "    price.append(i.text)\n"
   ]
  },
  {
   "cell_type": "code",
   "execution_count": 176,
   "id": "50f778a5",
   "metadata": {},
   "outputs": [],
   "source": [
    "#scraping product description using xpath.\n",
    "\n",
    "description=[]\n",
    "d_tag=dr.find_elements(By.XPATH,'//a[@class=\"IRpwTa\"]')\n",
    "for i in d_tag:\n",
    "    description.append(i.text)\n"
   ]
  },
  {
   "cell_type": "code",
   "execution_count": 177,
   "id": "6b7d1f4a",
   "metadata": {},
   "outputs": [],
   "source": [
    "#scraping discount using xpath.\n",
    "\n",
    "discount=[]\n",
    "dis_tag=dr.find_elements(By.XPATH,'//div[@class=\"_3Ay6Sb\"]')\n",
    "for i in dis_tag:\n",
    "    discount.append(i.text)\n"
   ]
  },
  {
   "cell_type": "code",
   "execution_count": 178,
   "id": "8609f115",
   "metadata": {},
   "outputs": [
    {
     "data": {
      "text/plain": [
       "[<selenium.webdriver.remote.webelement.WebElement (session=\"60e6b8fc5da13aa39b3f3563e049e9ad\", element=\"81e21447-e453-4ab9-a406-797365a55978\")>,\n",
       " <selenium.webdriver.remote.webelement.WebElement (session=\"60e6b8fc5da13aa39b3f3563e049e9ad\", element=\"c6ee5624-1362-4bfd-b30c-238d0642259e\")>,\n",
       " <selenium.webdriver.remote.webelement.WebElement (session=\"60e6b8fc5da13aa39b3f3563e049e9ad\", element=\"0e650f1c-f97f-4991-9799-b09a254305b0\")>,\n",
       " <selenium.webdriver.remote.webelement.WebElement (session=\"60e6b8fc5da13aa39b3f3563e049e9ad\", element=\"6ea1966a-1311-4720-a515-1c3ba17818d4\")>,\n",
       " <selenium.webdriver.remote.webelement.WebElement (session=\"60e6b8fc5da13aa39b3f3563e049e9ad\", element=\"50539ddb-bc2a-4ddb-8ba2-30842595cbc3\")>,\n",
       " <selenium.webdriver.remote.webelement.WebElement (session=\"60e6b8fc5da13aa39b3f3563e049e9ad\", element=\"a3c9b6ad-4933-4432-9775-8a445a40f59e\")>,\n",
       " <selenium.webdriver.remote.webelement.WebElement (session=\"60e6b8fc5da13aa39b3f3563e049e9ad\", element=\"be457910-7ac7-4c72-8440-7d6addfb4c91\")>,\n",
       " <selenium.webdriver.remote.webelement.WebElement (session=\"60e6b8fc5da13aa39b3f3563e049e9ad\", element=\"b9c0a4eb-53cf-4e14-b47c-e9c5643f455f\")>,\n",
       " <selenium.webdriver.remote.webelement.WebElement (session=\"60e6b8fc5da13aa39b3f3563e049e9ad\", element=\"121fd134-4166-48c9-ac3c-aa5a0f95777d\")>,\n",
       " <selenium.webdriver.remote.webelement.WebElement (session=\"60e6b8fc5da13aa39b3f3563e049e9ad\", element=\"23308e36-3782-4066-aeb6-cede8359a1d9\")>,\n",
       " <selenium.webdriver.remote.webelement.WebElement (session=\"60e6b8fc5da13aa39b3f3563e049e9ad\", element=\"e6a0313e-c1c2-4a53-a846-83dd4d00df50\")>,\n",
       " <selenium.webdriver.remote.webelement.WebElement (session=\"60e6b8fc5da13aa39b3f3563e049e9ad\", element=\"86dea699-7d56-4303-9371-1bdee1b1bf1b\")>,\n",
       " <selenium.webdriver.remote.webelement.WebElement (session=\"60e6b8fc5da13aa39b3f3563e049e9ad\", element=\"430448f0-be4d-4589-92fc-a64aab2b281d\")>,\n",
       " <selenium.webdriver.remote.webelement.WebElement (session=\"60e6b8fc5da13aa39b3f3563e049e9ad\", element=\"96eaed80-1556-4d6f-b3cd-ba5fe495f08f\")>,\n",
       " <selenium.webdriver.remote.webelement.WebElement (session=\"60e6b8fc5da13aa39b3f3563e049e9ad\", element=\"20cef0fb-2149-4c6b-8224-e37161c29c94\")>,\n",
       " <selenium.webdriver.remote.webelement.WebElement (session=\"60e6b8fc5da13aa39b3f3563e049e9ad\", element=\"aef355f3-59e2-4cf3-a3a8-e1c00d91776c\")>,\n",
       " <selenium.webdriver.remote.webelement.WebElement (session=\"60e6b8fc5da13aa39b3f3563e049e9ad\", element=\"1f48f3fa-6afa-486a-b696-62c87c11ff2a\")>,\n",
       " <selenium.webdriver.remote.webelement.WebElement (session=\"60e6b8fc5da13aa39b3f3563e049e9ad\", element=\"6ee4873f-f19a-41ba-a847-fac070d43788\")>,\n",
       " <selenium.webdriver.remote.webelement.WebElement (session=\"60e6b8fc5da13aa39b3f3563e049e9ad\", element=\"3faae10b-e74a-4b07-86a3-8a00498b082d\")>,\n",
       " <selenium.webdriver.remote.webelement.WebElement (session=\"60e6b8fc5da13aa39b3f3563e049e9ad\", element=\"b8b37cc4-6bfb-4178-bf0e-742da200af42\")>,\n",
       " <selenium.webdriver.remote.webelement.WebElement (session=\"60e6b8fc5da13aa39b3f3563e049e9ad\", element=\"7be9a5d1-791a-45da-a90e-07b01ec30aeb\")>,\n",
       " <selenium.webdriver.remote.webelement.WebElement (session=\"60e6b8fc5da13aa39b3f3563e049e9ad\", element=\"7ea159ac-9125-4d40-88c7-0223b2167b2f\")>,\n",
       " <selenium.webdriver.remote.webelement.WebElement (session=\"60e6b8fc5da13aa39b3f3563e049e9ad\", element=\"4d8a4e06-1772-4d9d-be0d-8eb7a5b5b30e\")>,\n",
       " <selenium.webdriver.remote.webelement.WebElement (session=\"60e6b8fc5da13aa39b3f3563e049e9ad\", element=\"a53fb833-1dc8-4f69-96d3-f2439d32650f\")>,\n",
       " <selenium.webdriver.remote.webelement.WebElement (session=\"60e6b8fc5da13aa39b3f3563e049e9ad\", element=\"bfa298ed-591a-4afe-b38b-f2fd51c04063\")>,\n",
       " <selenium.webdriver.remote.webelement.WebElement (session=\"60e6b8fc5da13aa39b3f3563e049e9ad\", element=\"6f32611b-dbea-448b-8019-2a16aebc395d\")>,\n",
       " <selenium.webdriver.remote.webelement.WebElement (session=\"60e6b8fc5da13aa39b3f3563e049e9ad\", element=\"83ceb8a8-0fb8-4eb5-a0e8-77b7d1aba5c0\")>,\n",
       " <selenium.webdriver.remote.webelement.WebElement (session=\"60e6b8fc5da13aa39b3f3563e049e9ad\", element=\"91c2a4b4-56c7-43eb-8390-5b8135e6f910\")>,\n",
       " <selenium.webdriver.remote.webelement.WebElement (session=\"60e6b8fc5da13aa39b3f3563e049e9ad\", element=\"6c7a9d90-8de3-462d-9b71-bcab8a75ff4c\")>,\n",
       " <selenium.webdriver.remote.webelement.WebElement (session=\"60e6b8fc5da13aa39b3f3563e049e9ad\", element=\"4aeb8835-74ee-4b91-b5b7-355376885d0f\")>,\n",
       " <selenium.webdriver.remote.webelement.WebElement (session=\"60e6b8fc5da13aa39b3f3563e049e9ad\", element=\"f0779c4c-3ae8-4802-ac81-5df3ee83acca\")>,\n",
       " <selenium.webdriver.remote.webelement.WebElement (session=\"60e6b8fc5da13aa39b3f3563e049e9ad\", element=\"d64fbf45-d70a-45b4-89a6-3e8d5fe4eb03\")>,\n",
       " <selenium.webdriver.remote.webelement.WebElement (session=\"60e6b8fc5da13aa39b3f3563e049e9ad\", element=\"bc036280-33b2-4673-befd-4ef357bcbf25\")>,\n",
       " <selenium.webdriver.remote.webelement.WebElement (session=\"60e6b8fc5da13aa39b3f3563e049e9ad\", element=\"0b1641a0-184e-4008-8574-480fe41846f4\")>,\n",
       " <selenium.webdriver.remote.webelement.WebElement (session=\"60e6b8fc5da13aa39b3f3563e049e9ad\", element=\"6d00da9f-6287-4f2f-baa8-b0ab6dd1a34d\")>,\n",
       " <selenium.webdriver.remote.webelement.WebElement (session=\"60e6b8fc5da13aa39b3f3563e049e9ad\", element=\"2aa52f45-4050-46b8-acf0-6ccf146416db\")>,\n",
       " <selenium.webdriver.remote.webelement.WebElement (session=\"60e6b8fc5da13aa39b3f3563e049e9ad\", element=\"1e1dbca5-5462-4385-9db1-52245e872a23\")>,\n",
       " <selenium.webdriver.remote.webelement.WebElement (session=\"60e6b8fc5da13aa39b3f3563e049e9ad\", element=\"e6d62374-463a-4132-b4d4-ab3500db5fe6\")>,\n",
       " <selenium.webdriver.remote.webelement.WebElement (session=\"60e6b8fc5da13aa39b3f3563e049e9ad\", element=\"471c76d1-ac41-4960-b370-b33de00c7664\")>,\n",
       " <selenium.webdriver.remote.webelement.WebElement (session=\"60e6b8fc5da13aa39b3f3563e049e9ad\", element=\"1f3b3935-4933-40fc-9004-73b72bb7f6b1\")>]"
      ]
     },
     "execution_count": 178,
     "metadata": {},
     "output_type": "execute_result"
    }
   ],
   "source": [
    "#scraping the url from the site page.\n",
    "\n",
    "url=dr.find_elements(By.XPATH,'//a[@class=\"IRpwTa\"]')\n",
    "url"
   ]
  },
  {
   "cell_type": "code",
   "execution_count": 179,
   "id": "09d6152a",
   "metadata": {},
   "outputs": [
    {
     "name": "stdout",
     "output_type": "stream",
     "text": [
      "https://www.flipkart.com/vincent-chase-lenskart-wayfarer-sunglasses/p/itm98a773db44f91?pid=SGLG4XY5W5GXEMHY&lid=LSTSGLG4XY5W5GXEMHYQYSMQ0&marketplace=FLIPKART&q=Sunglasses&store=26x&srno=s_1_1&otracker=search&otracker1=search&fm=organic&iid=en_Y1JMM1xpKVeHWM1itBrcEXMCBl03PkfyJCYDb7zl6Y8mLk6Ws9SuB7l3zq81fDx4TshYNFKJEzau0vfmpslNSQ%3D%3D&ppt=hp&ppn=homepage&ssid=9j2wtaug2o0000001660859955755&qH=0ff7a11a5902c9f7\n",
      "https://www.flipkart.com/vincent-chase-lenskart-cat-eye-sunglasses/p/itmba54fc7e93beb?pid=SGLFZSPFKMA4HN5A&lid=LSTSGLFZSPFKMA4HN5A0DYA0C&marketplace=FLIPKART&q=Sunglasses&store=26x&srno=s_1_2&otracker=search&otracker1=search&fm=organic&iid=en_Y1JMM1xpKVeHWM1itBrcEXMCBl03PkfyJCYDb7zl6Y%2FZoQ0PET3BXOpp9Q0MfWBU4QJf2FmDAzDnOltWq7%2Fk1w%3D%3D&ppt=hp&ppn=homepage&ssid=9j2wtaug2o0000001660859955755&qH=0ff7a11a5902c9f7\n",
      "https://www.flipkart.com/fastrack-wayfarer-sunglasses/p/itm44f5aeeecaf5c?pid=SGLF79DQR8NQAT2W&lid=LSTSGLF79DQR8NQAT2WWQCQ7S&marketplace=FLIPKART&q=Sunglasses&store=26x&srno=s_1_3&otracker=search&otracker1=search&fm=organic&iid=e6f5937f-3a91-43ce-96b6-923447d54b9f.SGLF79DQR8NQAT2W.SEARCH&ppt=hp&ppn=homepage&ssid=9j2wtaug2o0000001660859955755&qH=0ff7a11a5902c9f7\n",
      "https://www.flipkart.com/fastrack-rectangular-sunglasses/p/itm3c6e13efc17e0?pid=SGLES2WMF6CH5GYF&lid=LSTSGLES2WMF6CH5GYFXDSXVD&marketplace=FLIPKART&q=Sunglasses&store=26x&srno=s_1_4&otracker=search&otracker1=search&fm=organic&iid=e6f5937f-3a91-43ce-96b6-923447d54b9f.SGLES2WMF6CH5GYF.SEARCH&ppt=hp&ppn=homepage&ssid=9j2wtaug2o0000001660859955755&qH=0ff7a11a5902c9f7\n",
      "https://www.flipkart.com/piraso-aviator-sunglasses/p/itm70504d13b7992?pid=SGLFV8YYCEA8RWAC&lid=LSTSGLFV8YYCEA8RWACIACICJ&marketplace=FLIPKART&q=Sunglasses&store=26x&spotlightTagId=BestsellerId_26x&srno=s_1_5&otracker=search&otracker1=search&fm=organic&iid=e6f5937f-3a91-43ce-96b6-923447d54b9f.SGLFV8YYCEA8RWAC.SEARCH&ppt=hp&ppn=homepage&ssid=9j2wtaug2o0000001660859955755&qH=0ff7a11a5902c9f7\n",
      "https://www.flipkart.com/piraso-rectangular-sunglasses/p/itm3da7d3ccfb529?pid=SGLG9TZXQMY4QHWX&lid=LSTSGLG9TZXQMY4QHWXXOC34E&marketplace=FLIPKART&q=Sunglasses&store=26x&srno=s_1_6&otracker=search&otracker1=search&fm=organic&iid=e6f5937f-3a91-43ce-96b6-923447d54b9f.SGLG9TZXQMY4QHWX.SEARCH&ppt=hp&ppn=homepage&ssid=9j2wtaug2o0000001660859955755&qH=0ff7a11a5902c9f7\n",
      "https://www.flipkart.com/srpm-wayfarer-sunglasses/p/itmaf19ae5820c06?pid=SGLFHQPHY2GZ4HFP&lid=LSTSGLFHQPHY2GZ4HFP0AZWKY&marketplace=FLIPKART&q=Sunglasses&store=26x&srno=s_1_7&otracker=search&otracker1=search&fm=organic&iid=e6f5937f-3a91-43ce-96b6-923447d54b9f.SGLFHQPHY2GZ4HFP.SEARCH&ppt=hp&ppn=homepage&ssid=9j2wtaug2o0000001660859955755&qH=0ff7a11a5902c9f7\n",
      "https://www.flipkart.com/silver-kartz-clubmaster-sunglasses/p/itmf3yh8embzpkcj?pid=SGLEXSPYRGGUGAMD&lid=LSTSGLEXSPYRGGUGAMDUL3IMI&marketplace=FLIPKART&q=Sunglasses&store=26x&srno=s_1_8&otracker=search&otracker1=search&fm=organic&iid=en_Y1JMM1xpKVeHWM1itBrcEXMCBl03PkfyJCYDb7zl6Y%2F%2FKHYX2tF5k%2BwhSf0x04RtFbodcL0zxAiAwK5NiLH1tg%3D%3D&ppt=hp&ppn=homepage&ssid=9j2wtaug2o0000001660859955755&qH=0ff7a11a5902c9f7\n",
      "https://www.flipkart.com/sunbee-wayfarer-sunglasses/p/itm0ec82c2e7927f?pid=SGLG3FTNVJFX45YX&lid=LSTSGLG3FTNVJFX45YX2YSY8S&marketplace=FLIPKART&q=Sunglasses&store=26x&srno=s_1_9&otracker=search&otracker1=search&fm=organic&iid=e6f5937f-3a91-43ce-96b6-923447d54b9f.SGLG3FTNVJFX45YX.SEARCH&ppt=hp&ppn=homepage&ssid=9j2wtaug2o0000001660859955755&qH=0ff7a11a5902c9f7\n",
      "https://www.flipkart.com/elligator-round-sunglasses/p/itm3c981fc444358?pid=SGLFPHP5BVBJTCDB&lid=LSTSGLFPHP5BVBJTCDB7P4T6G&marketplace=FLIPKART&q=Sunglasses&store=26x&srno=s_1_10&otracker=search&otracker1=search&fm=organic&iid=e6f5937f-3a91-43ce-96b6-923447d54b9f.SGLFPHP5BVBJTCDB.SEARCH&ppt=hp&ppn=homepage&ssid=9j2wtaug2o0000001660859955755&qH=0ff7a11a5902c9f7\n",
      "https://www.flipkart.com/fastrack-aviator-sunglasses/p/itm286ccd9d7b396?pid=SGLES2WMN7PCAERZ&lid=LSTSGLES2WMN7PCAERZS8KXNO&marketplace=FLIPKART&q=Sunglasses&store=26x&srno=s_1_11&otracker=search&otracker1=search&fm=organic&iid=e6f5937f-3a91-43ce-96b6-923447d54b9f.SGLES2WMN7PCAERZ.SEARCH&ppt=hp&ppn=homepage&ssid=9j2wtaug2o0000001660859955755&qH=0ff7a11a5902c9f7\n",
      "https://www.flipkart.com/vincent-chase-lenskart-aviator-sunglasses/p/itm8c01eb9b0dc90?pid=SGLGFYDUDHUDH5UH&lid=LSTSGLGFYDUDHUDH5UHSNBW98&marketplace=FLIPKART&q=Sunglasses&store=26x&srno=s_1_12&otracker=search&otracker1=search&fm=organic&iid=en_Y1JMM1xpKVeHWM1itBrcEXMCBl03PkfyJCYDb7zl6Y%2FuhMUW%2BDiUWEDGQ3o4aA1oRdliZGFaIA4TC5uJkiLuIA%3D%3D&ppt=hp&ppn=homepage&ssid=9j2wtaug2o0000001660859955755&qH=0ff7a11a5902c9f7\n",
      "https://www.flipkart.com/new-specs-rectangular-sunglasses/p/itm545a0f9e323c3?pid=SGLG2ESNVFBGD6NQ&lid=LSTSGLG2ESNVFBGD6NQDMTXPL&marketplace=FLIPKART&q=Sunglasses&store=26x&srno=s_1_13&otracker=search&otracker1=search&fm=organic&iid=e6f5937f-3a91-43ce-96b6-923447d54b9f.SGLG2ESNVFBGD6NQ.SEARCH&ppt=hp&ppn=homepage&ssid=9j2wtaug2o0000001660859955755&qH=0ff7a11a5902c9f7\n",
      "https://www.flipkart.com/new-specs-oval-sunglasses/p/itm4b3fd756b165e?pid=SGLGGGJN8QXVDGVZ&lid=LSTSGLGGGJN8QXVDGVZYFRKZK&marketplace=FLIPKART&q=Sunglasses&store=26x&srno=s_1_14&otracker=search&otracker1=search&fm=organic&iid=e6f5937f-3a91-43ce-96b6-923447d54b9f.SGLGGGJN8QXVDGVZ.SEARCH&ppt=hp&ppn=homepage&ssid=9j2wtaug2o0000001660859955755&qH=0ff7a11a5902c9f7\n",
      "https://www.flipkart.com/shaah-collections-rectangular-sunglasses/p/itm201340b1c3e13?pid=SGLFXWGV5TGFFSPX&lid=LSTSGLFXWGV5TGFFSPXSORUG9&marketplace=FLIPKART&q=Sunglasses&store=26x&srno=s_1_15&otracker=search&otracker1=search&fm=organic&iid=e6f5937f-3a91-43ce-96b6-923447d54b9f.SGLFXWGV5TGFFSPX.SEARCH&ppt=hp&ppn=homepage&ssid=9j2wtaug2o0000001660859955755&qH=0ff7a11a5902c9f7\n",
      "https://www.flipkart.com/vincent-chase-lenskart-aviator-sunglasses/p/itm655a1e1723248?pid=SGLFZSP3FZVSFKUG&lid=LSTSGLFZSP3FZVSFKUGCMU2HZ&marketplace=FLIPKART&q=Sunglasses&store=26x&srno=s_1_16&otracker=search&otracker1=search&fm=organic&iid=en_Y1JMM1xpKVeHWM1itBrcEXMCBl03PkfyJCYDb7zl6Y8MB75WrqHA3n6gHChkf%2FpJ9x1aeUmN9JXNTg3ev0poDQ%3D%3D&ppt=hp&ppn=homepage&ssid=9j2wtaug2o0000001660859955755&qH=0ff7a11a5902c9f7\n",
      "https://www.flipkart.com/phenomenal-retro-square-sunglasses/p/itm46281b2ac57db?pid=SGLG75ZJFEH3EEUU&lid=LSTSGLG75ZJFEH3EEUUXRLEW5&marketplace=FLIPKART&q=Sunglasses&store=26x&srno=s_1_17&otracker=search&otracker1=search&fm=organic&iid=e6f5937f-3a91-43ce-96b6-923447d54b9f.SGLG75ZJFEH3EEUU.SEARCH&ppt=hp&ppn=homepage&ssid=9j2wtaug2o0000001660859955755&qH=0ff7a11a5902c9f7\n",
      "https://www.flipkart.com/rozzetta-craft-sports-wrap-around-sunglasses/p/itm10af50b049674?pid=SGLG9AFQF2HNHK7A&lid=LSTSGLG9AFQF2HNHK7AIIXH1I&marketplace=FLIPKART&q=Sunglasses&store=26x&srno=s_1_18&otracker=search&otracker1=search&fm=organic&iid=e6f5937f-3a91-43ce-96b6-923447d54b9f.SGLG9AFQF2HNHK7A.SEARCH&ppt=hp&ppn=homepage&ssid=9j2wtaug2o0000001660859955755&qH=0ff7a11a5902c9f7\n",
      "https://www.flipkart.com/nuvew-aviator-sunglasses/p/itmf9qm5wpzbfhwu?pid=SGLF9QJ4CGGWQEWT&lid=LSTSGLF9QJ4CGGWQEWTV5FFH1&marketplace=FLIPKART&q=Sunglasses&store=26x&srno=s_1_19&otracker=search&otracker1=search&fm=organic&iid=e6f5937f-3a91-43ce-96b6-923447d54b9f.SGLF9QJ4CGGWQEWT.SEARCH&ppt=hp&ppn=homepage&ssid=9j2wtaug2o0000001660859955755&qH=0ff7a11a5902c9f7\n",
      "https://www.flipkart.com/vincent-chase-lenskart-aviator-sunglasses/p/itm381f1b2e58f7a?pid=SGLFZSPPVSPXSPBG&lid=LSTSGLFZSPPVSPXSPBG1OQYHI&marketplace=FLIPKART&q=Sunglasses&store=26x&srno=s_1_20&otracker=search&otracker1=search&fm=organic&iid=en_Y1JMM1xpKVeHWM1itBrcEXMCBl03PkfyJCYDb7zl6Y%2FwCxRh%2BCvW%2BnloYZQfeAx%2BCimWwJlA9xnQNAd8YZiIuA%3D%3D&ppt=hp&ppn=homepage&ssid=9j2wtaug2o0000001660859955755&qH=0ff7a11a5902c9f7\n",
      "https://www.flipkart.com/liza-angel-spectacle-sunglasses/p/itmcde6286ce1e68?pid=SGLGACDZNYMCU2QD&lid=LSTSGLGACDZNYMCU2QDRYLPY9&marketplace=FLIPKART&q=Sunglasses&store=26x&srno=s_1_21&otracker=search&otracker1=search&fm=organic&iid=e6f5937f-3a91-43ce-96b6-923447d54b9f.SGLGACDZNYMCU2QD.SEARCH&ppt=hp&ppn=homepage&ssid=9j2wtaug2o0000001660859955755&qH=0ff7a11a5902c9f7\n",
      "https://www.flipkart.com/piraso-aviator-sunglasses/p/itm405062704fcc0?pid=SGLFTYY5NWNKSC64&lid=LSTSGLFTYY5NWNKSC64YLGIVW&marketplace=FLIPKART&q=Sunglasses&store=26x&srno=s_1_22&otracker=search&otracker1=search&fm=organic&iid=e6f5937f-3a91-43ce-96b6-923447d54b9f.SGLFTYY5NWNKSC64.SEARCH&ppt=hp&ppn=homepage&ssid=9j2wtaug2o0000001660859955755&qH=0ff7a11a5902c9f7\n",
      "https://www.flipkart.com/rozzetta-craft-retro-square-sunglasses/p/itmf248ba5b3a895?pid=SGLFZFZNAQNZHYB7&lid=LSTSGLFZFZNAQNZHYB7GZ3YO5&marketplace=FLIPKART&q=Sunglasses&store=26x&srno=s_1_23&otracker=search&otracker1=search&fm=organic&iid=e6f5937f-3a91-43ce-96b6-923447d54b9f.SGLFZFZNAQNZHYB7.SEARCH&ppt=hp&ppn=homepage&ssid=9j2wtaug2o0000001660859955755&qH=0ff7a11a5902c9f7\n",
      "https://www.flipkart.com/john-jacobs-round-sunglasses/p/itm1607a26e33635?pid=SGLGCT3PKMWB8XT2&lid=LSTSGLGCT3PKMWB8XT2WIVMOW&marketplace=FLIPKART&q=Sunglasses&store=26x&srno=s_1_24&otracker=search&otracker1=search&fm=organic&iid=en_Y1JMM1xpKVeHWM1itBrcEXMCBl03PkfyJCYDb7zl6Y81Nsg3BOTJ4eIuzs09mFTeRBIF9Ot%2FpPnIgvLRv2pzOQ%3D%3D&ppt=hp&ppn=homepage&ssid=9j2wtaug2o0000001660859955755&qH=0ff7a11a5902c9f7\n",
      "https://www.flipkart.com/dannilo-spectacle-sunglasses/p/itmfgcxnz9adzktz?pid=SGLFGCWH4WC9QHJ5&lid=LSTSGLFGCWH4WC9QHJ5P2RJM0&marketplace=FLIPKART&q=Sunglasses&store=26x&srno=s_1_25&otracker=search&otracker1=search&fm=organic&iid=e6f5937f-3a91-43ce-96b6-923447d54b9f.SGLFGCWH4WC9QHJ5.SEARCH&ppt=hp&ppn=homepage&ssid=9j2wtaug2o0000001660859955755&qH=0ff7a11a5902c9f7\n",
      "https://www.flipkart.com/mi-aviator-sunglasses/p/itmf969f9d8734ec?pid=SGLFKFN2ZZPFYWFH&lid=LSTSGLFKFN2ZZPFYWFHUC2L2X&marketplace=FLIPKART&q=Sunglasses&store=26x&srno=s_1_26&otracker=search&otracker1=search&fm=organic&iid=e6f5937f-3a91-43ce-96b6-923447d54b9f.SGLFKFN2ZZPFYWFH.SEARCH&ppt=hp&ppn=homepage&ssid=9j2wtaug2o0000001660859955755&qH=0ff7a11a5902c9f7\n",
      "https://www.flipkart.com/piraso-aviator-sunglasses/p/itma9ed6fe9b3b86?pid=SGLFZJQUNAHYUCAS&lid=LSTSGLFZJQUNAHYUCASKDXKTE&marketplace=FLIPKART&q=Sunglasses&store=26x&srno=s_1_27&otracker=search&otracker1=search&fm=organic&iid=e6f5937f-3a91-43ce-96b6-923447d54b9f.SGLFZJQUNAHYUCAS.SEARCH&ppt=hp&ppn=homepage&ssid=9j2wtaug2o0000001660859955755&qH=0ff7a11a5902c9f7\n",
      "https://www.flipkart.com/vincent-chase-lenskart-round-sunglasses/p/itm4c0727e3d0e1a?pid=SGLFU52BYPPHF5ZQ&lid=LSTSGLFU52BYPPHF5ZQTNPU47&marketplace=FLIPKART&q=Sunglasses&store=26x&srno=s_1_28&otracker=search&otracker1=search&fm=organic&iid=en_Y1JMM1xpKVeHWM1itBrcEXMCBl03PkfyJCYDb7zl6Y9tzag%2B45EX4onVk2bwIZ1LtIPPQJiCbgJsSmAj4OPatg%3D%3D&ppt=hp&ppn=homepage&ssid=9j2wtaug2o0000001660859955755&qH=0ff7a11a5902c9f7\n",
      "https://www.flipkart.com/lee-topper-rectangular-sunglasses/p/itmdc0e4ca417b38?pid=SGLG9Y9ZBWUSGWAC&lid=LSTSGLG9Y9ZBWUSGWACKEXS2L&marketplace=FLIPKART&q=Sunglasses&store=26x&srno=s_1_29&otracker=search&otracker1=search&fm=organic&iid=e6f5937f-3a91-43ce-96b6-923447d54b9f.SGLG9Y9ZBWUSGWAC.SEARCH&ppt=hp&ppn=homepage&ssid=9j2wtaug2o0000001660859955755&qH=0ff7a11a5902c9f7\n",
      "https://www.flipkart.com/fastrack-shield-sunglasses/p/itme31b29c245e9d?pid=SGLF79DPQHKPREWV&lid=LSTSGLF79DPQHKPREWVH4OGVF&marketplace=FLIPKART&q=Sunglasses&store=26x&srno=s_1_30&otracker=search&otracker1=search&fm=organic&iid=e6f5937f-3a91-43ce-96b6-923447d54b9f.SGLF79DPQHKPREWV.SEARCH&ppt=hp&ppn=homepage&ssid=9j2wtaug2o0000001660859955755&qH=0ff7a11a5902c9f7\n",
      "https://www.flipkart.com/phenomenal-retro-square-sunglasses/p/itm1ead9ddbbb3d8?pid=SGLFUBFWNBFEAVD3&lid=LSTSGLFUBFWNBFEAVD31E0HIC&marketplace=FLIPKART&q=Sunglasses&store=26x&srno=s_1_31&otracker=search&otracker1=search&fm=organic&iid=e6f5937f-3a91-43ce-96b6-923447d54b9f.SGLFUBFWNBFEAVD3.SEARCH&ppt=hp&ppn=homepage&ssid=9j2wtaug2o0000001660859955755&qH=0ff7a11a5902c9f7\n",
      "https://www.flipkart.com/vincent-chase-lenskart-cat-eye-sunglasses/p/itmd3a4b1e09534f?pid=SGLG4XY5EVEWAVZZ&lid=LSTSGLG4XY5EVEWAVZZ2J0QWQ&marketplace=FLIPKART&q=Sunglasses&store=26x&srno=s_1_32&otracker=search&otracker1=search&fm=organic&iid=en_Y1JMM1xpKVeHWM1itBrcEXMCBl03PkfyJCYDb7zl6Y%2Fz5FTPb2n1A%2BcQnRMj51I%2BUiGK4rDDmW0eqZwKPSfXdg%3D%3D&ppt=hp&ppn=homepage&ssid=9j2wtaug2o0000001660859955755&qH=0ff7a11a5902c9f7\n",
      "https://www.flipkart.com/sunbee-retro-square-sunglasses/p/itmb89a15e6ca52a?pid=SGLG3HZUQWBQTKMZ&lid=LSTSGLG3HZUQWBQTKMZIWGU63&marketplace=FLIPKART&q=Sunglasses&store=26x&srno=s_1_33&otracker=search&otracker1=search&fm=organic&iid=e6f5937f-3a91-43ce-96b6-923447d54b9f.SGLG3HZUQWBQTKMZ.SEARCH&ppt=hp&ppn=homepage&ssid=9j2wtaug2o0000001660859955755&qH=0ff7a11a5902c9f7\n",
      "https://www.flipkart.com/fastrack-aviator-sunglasses/p/itm047bd71f167bb?pid=SGLFKYGHKP4BXEMH&lid=LSTSGLFKYGHKP4BXEMHPJOINL&marketplace=FLIPKART&q=Sunglasses&store=26x&srno=s_1_34&otracker=search&otracker1=search&fm=organic&iid=e6f5937f-3a91-43ce-96b6-923447d54b9f.SGLFKYGHKP4BXEMH.SEARCH&ppt=hp&ppn=homepage&ssid=9j2wtaug2o0000001660859955755&qH=0ff7a11a5902c9f7\n",
      "https://www.flipkart.com/vincent-chase-lenskart-rectangular-sunglasses/p/itme9de4d491f912?pid=SGLFU52FHZDHNQVP&lid=LSTSGLFU52FHZDHNQVPIWDCLI&marketplace=FLIPKART&q=Sunglasses&store=26x&srno=s_1_35&otracker=search&otracker1=search&fm=organic&iid=e6f5937f-3a91-43ce-96b6-923447d54b9f.SGLFU52FHZDHNQVP.SEARCH&ppt=hp&ppn=homepage&ssid=9j2wtaug2o0000001660859955755&qH=0ff7a11a5902c9f7\n",
      "https://www.flipkart.com/vincent-chase-lenskart-aviator-sunglasses/p/itmded92fa116146?pid=SGLFZSPGPUGJTFPN&lid=LSTSGLFZSPGPUGJTFPNUVVXPW&marketplace=FLIPKART&q=Sunglasses&store=26x&srno=s_1_36&otracker=search&otracker1=search&fm=organic&iid=en_Y1JMM1xpKVeHWM1itBrcEXMCBl03PkfyJCYDb7zl6Y9ciIc%2F9qokSGszTNhSifeD7vYZnSP05z921oPzPehRuA%3D%3D&ppt=hp&ppn=homepage&ssid=9j2wtaug2o0000001660859955755&qH=0ff7a11a5902c9f7\n",
      "https://www.flipkart.com/izaan-mart-rectangular-sunglasses/p/itm2a7a35ce86a90?pid=SGLG37NJWYPSYSQZ&lid=LSTSGLG37NJWYPSYSQZA9GZRA&marketplace=FLIPKART&q=Sunglasses&store=26x&srno=s_1_37&otracker=search&otracker1=search&fm=organic&iid=e6f5937f-3a91-43ce-96b6-923447d54b9f.SGLG37NJWYPSYSQZ.SEARCH&ppt=hp&ppn=homepage&ssid=9j2wtaug2o0000001660859955755&qH=0ff7a11a5902c9f7\n",
      "https://www.flipkart.com/kingsunglasses-aviator-sunglasses/p/itm175d90885d1b1?pid=SGLG3HS74KZWM7XD&lid=LSTSGLG3HS74KZWM7XDCSQSRQ&marketplace=FLIPKART&q=Sunglasses&store=26x&srno=s_1_38&otracker=search&otracker1=search&fm=organic&iid=e6f5937f-3a91-43ce-96b6-923447d54b9f.SGLG3HS74KZWM7XD.SEARCH&ppt=hp&ppn=homepage&ssid=9j2wtaug2o0000001660859955755&qH=0ff7a11a5902c9f7\n",
      "https://www.flipkart.com/royal-son-butterfly-sunglasses/p/itmb1eefa335fedf?pid=SGLG3PH39FYFPPHW&lid=LSTSGLG3PH39FYFPPHWGHNIP8&marketplace=FLIPKART&q=Sunglasses&store=26x&srno=s_1_39&otracker=search&otracker1=search&fm=organic&iid=e6f5937f-3a91-43ce-96b6-923447d54b9f.SGLG3PH39FYFPPHW.SEARCH&ppt=hp&ppn=homepage&ssid=9j2wtaug2o0000001660859955755&qH=0ff7a11a5902c9f7\n",
      "https://www.flipkart.com/vincent-chase-lenskart-aviator-sunglasses/p/itmc2f5fbd024681?pid=SGLFZSPDEK7DSBCV&lid=LSTSGLFZSPDEK7DSBCVVFCIFR&marketplace=FLIPKART&q=Sunglasses&store=26x&srno=s_1_40&otracker=search&otracker1=search&fm=organic&iid=en_Y1JMM1xpKVeHWM1itBrcEXMCBl03PkfyJCYDb7zl6Y9jz4npe32hl37yK%2FZlm%2FODMpbvDjhViLiYfwIE%2B0ubMg%3D%3D&ppt=hp&ppn=homepage&ssid=9j2wtaug2o0000001660859955755&qH=0ff7a11a5902c9f7\n"
     ]
    }
   ],
   "source": [
    "#getting all the url using get_attribute from href.\n",
    "\n",
    "for i in url:\n",
    "    print(i.get_attribute('href'))"
   ]
  },
  {
   "cell_type": "code",
   "execution_count": 180,
   "id": "52a80ad8",
   "metadata": {},
   "outputs": [],
   "source": [
    "brand=[]"
   ]
  },
  {
   "cell_type": "code",
   "execution_count": 181,
   "id": "43b1f025",
   "metadata": {},
   "outputs": [],
   "source": [
    "#extracting data from 3 pages at one time using this code \n",
    "start=0\n",
    "end=3\n",
    "for i in range(start,end):\n",
    "    b_tag=dr.find_elements(By.XPATH,'//div[@class=\"_2WkVRV\"]')[0:100]\n",
    "    for i in b_tag:\n",
    "        bran=i.text\n",
    "        brand.append(bran)\n",
    "    next_button=dr.find_element(By.XPATH,'//a[@class=\"_1LKTO3\"]')\n",
    "    next_button.click()\n",
    "    time.sleep(3)"
   ]
  },
  {
   "cell_type": "code",
   "execution_count": 182,
   "id": "cca2ab58",
   "metadata": {},
   "outputs": [],
   "source": [
    "price=[]"
   ]
  },
  {
   "cell_type": "code",
   "execution_count": 183,
   "id": "a8681ced",
   "metadata": {},
   "outputs": [],
   "source": [
    "#scraping data from the next pages also using this code\n",
    "\n",
    "start=0\n",
    "end=3\n",
    "for i in range(start,end):\n",
    "    p_tag=dr.find_elements(By.XPATH,'//div[@class=\"_30jeq3\"]')[0:100]\n",
    "    for i in p_tag:\n",
    "        pri=i.text\n",
    "        price.append(pri)\n",
    "    next_button=dr.find_element(By.XPATH,'//a[@class=\"_1LKTO3\"]')\n",
    "    next_button.click()\n",
    "    time.sleep(3)\n"
   ]
  },
  {
   "cell_type": "code",
   "execution_count": 184,
   "id": "6b515b51",
   "metadata": {},
   "outputs": [],
   "source": [
    "description=[]"
   ]
  },
  {
   "cell_type": "code",
   "execution_count": 185,
   "id": "285e8bbc",
   "metadata": {},
   "outputs": [],
   "source": [
    "#scraping data from the next pages also using this code\n",
    "\n",
    "start=0\n",
    "end=3\n",
    "for i in range(start,end):\n",
    "    d_tag=dr.find_elements(By.XPATH,'//a[@class=\"IRpwTa\"]')[0:100]\n",
    "    for i in d_tag:\n",
    "        de=i.text\n",
    "        description.append(de)\n",
    "    next_button=dr.find_element(By.XPATH,'//a[@class=\"_1LKTO3\"]')\n",
    "    next_button.click()\n",
    "    time.sleep(3)\n"
   ]
  },
  {
   "cell_type": "code",
   "execution_count": 186,
   "id": "87353004",
   "metadata": {},
   "outputs": [],
   "source": [
    "discount=[]"
   ]
  },
  {
   "cell_type": "code",
   "execution_count": 187,
   "id": "02e88baa",
   "metadata": {},
   "outputs": [],
   "source": [
    "#scraping data from the next pages also using this code\n",
    "\n",
    "start=0\n",
    "end=3\n",
    "for i in range(start,end):\n",
    "    dis_tag=dr.find_elements(By.XPATH,'//div[@class=\"_3Ay6Sb\"]')[0:100]\n",
    "    for i in dis_tag:\n",
    "        di=i.text\n",
    "        discount.append(di)\n",
    "    next_button=dr.find_element(By.XPATH,'//a[@class=\"_1LKTO3\"]')\n",
    "    next_button.click()\n",
    "    time.sleep(3)\n"
   ]
  },
  {
   "cell_type": "code",
   "execution_count": 188,
   "id": "9feb17d6",
   "metadata": {},
   "outputs": [
    {
     "name": "stdout",
     "output_type": "stream",
     "text": [
      "120 120 120 120\n"
     ]
    }
   ],
   "source": [
    "#total data extracted from 3 pages is of 120 products each for every list\n",
    "print(len(brand),len(price),len(discount),len(description))"
   ]
  },
  {
   "cell_type": "code",
   "execution_count": 166,
   "id": "ce5c3c08",
   "metadata": {},
   "outputs": [
    {
     "data": {
      "text/html": [
       "<div>\n",
       "<style scoped>\n",
       "    .dataframe tbody tr th:only-of-type {\n",
       "        vertical-align: middle;\n",
       "    }\n",
       "\n",
       "    .dataframe tbody tr th {\n",
       "        vertical-align: top;\n",
       "    }\n",
       "\n",
       "    .dataframe thead th {\n",
       "        text-align: right;\n",
       "    }\n",
       "</style>\n",
       "<table border=\"1\" class=\"dataframe\">\n",
       "  <thead>\n",
       "    <tr style=\"text-align: right;\">\n",
       "      <th></th>\n",
       "      <th>BRAND</th>\n",
       "      <th>PRICE</th>\n",
       "      <th>DISCOUNT</th>\n",
       "      <th>DESCRIPTION</th>\n",
       "    </tr>\n",
       "  </thead>\n",
       "  <tbody>\n",
       "    <tr>\n",
       "      <th>0</th>\n",
       "      <td>Fastrack</td>\n",
       "      <td>₹721</td>\n",
       "      <td>20% off</td>\n",
       "      <td>UV Protection Wayfarer Sunglasses (Free Size)</td>\n",
       "    </tr>\n",
       "    <tr>\n",
       "      <th>1</th>\n",
       "      <td>Fastrack</td>\n",
       "      <td>₹639</td>\n",
       "      <td>20% off</td>\n",
       "      <td>UV Protection Rectangular Sunglasses (Free Size)</td>\n",
       "    </tr>\n",
       "    <tr>\n",
       "      <th>2</th>\n",
       "      <td>PIRASO</td>\n",
       "      <td>₹399</td>\n",
       "      <td>85% off</td>\n",
       "      <td>UV Protection Aviator Sunglasses (54)</td>\n",
       "    </tr>\n",
       "    <tr>\n",
       "      <th>3</th>\n",
       "      <td>PIRASO</td>\n",
       "      <td>₹710</td>\n",
       "      <td>90% off</td>\n",
       "      <td>UV Protection Rectangular Sunglasses (52)</td>\n",
       "    </tr>\n",
       "    <tr>\n",
       "      <th>4</th>\n",
       "      <td>SUNBEE</td>\n",
       "      <td>₹379</td>\n",
       "      <td>78% off</td>\n",
       "      <td>UV Protection, Polarized Wayfarer Sunglasses (...</td>\n",
       "    </tr>\n",
       "    <tr>\n",
       "      <th>...</th>\n",
       "      <td>...</td>\n",
       "      <td>...</td>\n",
       "      <td>...</td>\n",
       "      <td>...</td>\n",
       "    </tr>\n",
       "    <tr>\n",
       "      <th>95</th>\n",
       "      <td>ROZZETTA CRAFT</td>\n",
       "      <td>₹249</td>\n",
       "      <td>77% off</td>\n",
       "      <td>UV Protection Retro Square Sunglasses (Free Size)</td>\n",
       "    </tr>\n",
       "    <tr>\n",
       "      <th>96</th>\n",
       "      <td>LIZA ANGEL</td>\n",
       "      <td>₹268</td>\n",
       "      <td>80% off</td>\n",
       "      <td>Riding Glasses, Night Vision Spectacle Sunglas...</td>\n",
       "    </tr>\n",
       "    <tr>\n",
       "      <th>97</th>\n",
       "      <td>Dannilo</td>\n",
       "      <td>₹221</td>\n",
       "      <td>78% off</td>\n",
       "      <td>Others Spectacle Sunglasses (Free Size)</td>\n",
       "    </tr>\n",
       "    <tr>\n",
       "      <th>98</th>\n",
       "      <td>PIRASO</td>\n",
       "      <td>₹214</td>\n",
       "      <td>86% off</td>\n",
       "      <td>UV Protection Aviator Sunglasses (54)</td>\n",
       "    </tr>\n",
       "    <tr>\n",
       "      <th>99</th>\n",
       "      <td>Mi</td>\n",
       "      <td>₹283</td>\n",
       "      <td>33% off</td>\n",
       "      <td>Polarized Aviator Sunglasses (Free Size)</td>\n",
       "    </tr>\n",
       "  </tbody>\n",
       "</table>\n",
       "<p>100 rows × 4 columns</p>\n",
       "</div>"
      ],
      "text/plain": [
       "             BRAND PRICE DISCOUNT  \\\n",
       "0         Fastrack  ₹721  20% off   \n",
       "1         Fastrack  ₹639  20% off   \n",
       "2           PIRASO  ₹399  85% off   \n",
       "3           PIRASO  ₹710  90% off   \n",
       "4           SUNBEE  ₹379  78% off   \n",
       "..             ...   ...      ...   \n",
       "95  ROZZETTA CRAFT  ₹249  77% off   \n",
       "96      LIZA ANGEL  ₹268  80% off   \n",
       "97         Dannilo  ₹221  78% off   \n",
       "98          PIRASO  ₹214  86% off   \n",
       "99              Mi  ₹283  33% off   \n",
       "\n",
       "                                          DESCRIPTION  \n",
       "0       UV Protection Wayfarer Sunglasses (Free Size)  \n",
       "1    UV Protection Rectangular Sunglasses (Free Size)  \n",
       "2               UV Protection Aviator Sunglasses (54)  \n",
       "3           UV Protection Rectangular Sunglasses (52)  \n",
       "4   UV Protection, Polarized Wayfarer Sunglasses (...  \n",
       "..                                                ...  \n",
       "95  UV Protection Retro Square Sunglasses (Free Size)  \n",
       "96  Riding Glasses, Night Vision Spectacle Sunglas...  \n",
       "97            Others Spectacle Sunglasses (Free Size)  \n",
       "98              UV Protection Aviator Sunglasses (54)  \n",
       "99           Polarized Aviator Sunglasses (Free Size)  \n",
       "\n",
       "[100 rows x 4 columns]"
      ]
     },
     "execution_count": 166,
     "metadata": {},
     "output_type": "execute_result"
    }
   ],
   "source": [
    "#showing data for first 100 products in the table\n",
    "\n",
    "tb=pd.DataFrame({'BRAND':brand,'PRICE':price,'DISCOUNT':discount,'DESCRIPTION':description})\n",
    "tb[0:100]"
   ]
  },
  {
   "cell_type": "code",
   "execution_count": null,
   "id": "a2311c36",
   "metadata": {},
   "outputs": [],
   "source": []
  },
  {
   "cell_type": "code",
   "execution_count": null,
   "id": "338e8fb2",
   "metadata": {},
   "outputs": [],
   "source": []
  },
  {
   "cell_type": "markdown",
   "id": "97abef8c",
   "metadata": {},
   "source": [
    "ANSWER-5"
   ]
  },
  {
   "cell_type": "code",
   "execution_count": 232,
   "id": "0b6e70a4",
   "metadata": {},
   "outputs": [],
   "source": [
    "#importing all the important libraries.\n",
    "\n",
    "import selenium\n",
    "import pandas as pd\n",
    "import time\n",
    "import warnings\n",
    "warnings.filterwarnings('ignore')\n",
    "from selenium import webdriver\n",
    "from selenium.webdriver.common.by import By\n",
    "from selenium.common.exceptions import StaleElementReferenceException, NoSuchElementException"
   ]
  },
  {
   "cell_type": "code",
   "execution_count": 255,
   "id": "46876d49",
   "metadata": {},
   "outputs": [],
   "source": [
    "#calling webdriver chrome in driver variable.\n",
    "driver=webdriver.Chrome(r'chromedriver.exe')"
   ]
  },
  {
   "cell_type": "code",
   "execution_count": 256,
   "id": "eebb7127",
   "metadata": {},
   "outputs": [],
   "source": [
    "#getting all the data of site on the driver or we can say opening the link.\n",
    "\n",
    "driver.get('https://www.flipkart.com/')"
   ]
  },
  {
   "cell_type": "code",
   "execution_count": 257,
   "id": "6d6a9234",
   "metadata": {},
   "outputs": [],
   "source": [
    "#sending iphone text in the search field using code.\n",
    "\n",
    "product=driver.find_element(By.XPATH,'/html/body/div[1]/div/div[1]/div[1]/div[2]/div[2]/form/div/div/input')\n",
    "product.send_keys('iphone 11')"
   ]
  },
  {
   "cell_type": "code",
   "execution_count": 258,
   "id": "1a917772",
   "metadata": {},
   "outputs": [],
   "source": [
    "#clicking on the search button using code.\n",
    "\n",
    "search=driver.find_element(By.CLASS_NAME,'L0Z3Pu')\n",
    "search.click()"
   ]
  },
  {
   "cell_type": "code",
   "execution_count": 259,
   "id": "726c97db",
   "metadata": {},
   "outputs": [],
   "source": [
    "iphone=driver.find_element(By.CLASS_NAME,\"_4rR01T\")\n",
    "iphone.click()"
   ]
  },
  {
   "cell_type": "code",
   "execution_count": 265,
   "id": "ce8a14da",
   "metadata": {},
   "outputs": [],
   "source": [
    "#extracting rating using xpath\n",
    "\n",
    "rat=[]\n",
    "rat_tag=driver.find_elements(By.XPATH,'//div[@class=\"_3LWZlK _1BLPMq\"]')\n",
    "for i in rat_tag:\n",
    "    rat.append(i.text)"
   ]
  },
  {
   "cell_type": "code",
   "execution_count": 269,
   "id": "c603c92f",
   "metadata": {},
   "outputs": [],
   "source": [
    "#extracting review summary of the product.\n",
    "\n",
    "review_summary=[]\n",
    "rev_tag=driver.find_elements(By.XPATH,'//p[@class=\"_2-N8zT\"]')\n",
    "for i in rev_tag:\n",
    "    review_summary.append(i.text)"
   ]
  },
  {
   "cell_type": "code",
   "execution_count": 267,
   "id": "6b7d2670",
   "metadata": {},
   "outputs": [],
   "source": [
    "#extracting full review .\n",
    "\n",
    "full_review=[]\n",
    "fullr_tag=driver.find_elements(By.XPATH,'/html/body/div[1]/div/div[3]/div/div/div[2]/div[3]/div/div/div/div[2]/div/div/div')\n",
    "for i in fullr_tag:\n",
    "    full_review.append(i.text)"
   ]
  },
  {
   "cell_type": "code",
   "execution_count": null,
   "id": "f79b841c",
   "metadata": {},
   "outputs": [],
   "source": []
  },
  {
   "cell_type": "code",
   "execution_count": null,
   "id": "f4ac0ab6",
   "metadata": {},
   "outputs": [],
   "source": []
  },
  {
   "cell_type": "markdown",
   "id": "bd40335a",
   "metadata": {},
   "source": [
    "ANSWER-6"
   ]
  },
  {
   "cell_type": "code",
   "execution_count": 153,
   "id": "1e230d8a",
   "metadata": {},
   "outputs": [],
   "source": [
    "#importing all the important libraries.\n",
    "\n",
    "import selenium\n",
    "import pandas as pd\n",
    "import time\n",
    "import warnings\n",
    "warnings.filterwarnings('ignore')\n",
    "from selenium import webdriver\n",
    "from selenium.webdriver.common.by import By\n",
    "from selenium.common.exceptions import StaleElementReferenceException, NoSuchElementException"
   ]
  },
  {
   "cell_type": "code",
   "execution_count": 154,
   "id": "d5a36b60",
   "metadata": {},
   "outputs": [],
   "source": [
    "#calling webdriver chrome in driver variable.\n",
    "driver=webdriver.Chrome(r'chromedriver.exe')"
   ]
  },
  {
   "cell_type": "code",
   "execution_count": 155,
   "id": "1169f617",
   "metadata": {},
   "outputs": [],
   "source": [
    "#getting all the data of site on the driver or we can say opening the link.\n",
    "\n",
    "driver.get(' https://www.flipkart.com/')"
   ]
  },
  {
   "cell_type": "code",
   "execution_count": 156,
   "id": "90c0cb5e",
   "metadata": {},
   "outputs": [],
   "source": [
    "#sending sneakers in the search field using code.\n",
    "\n",
    "product=driver.find_element(By.XPATH,'/html/body/div[1]/div/div[1]/div[1]/div[2]/div[2]/form/div/div/input')\n",
    "product.send_keys('Sneakers')"
   ]
  },
  {
   "cell_type": "code",
   "execution_count": 158,
   "id": "b53f084c",
   "metadata": {},
   "outputs": [],
   "source": [
    "#clicking on the search button using code.\n",
    "\n",
    "search=driver.find_element(By.CLASS_NAME,'L0Z3Pu')\n",
    "search.click()"
   ]
  },
  {
   "cell_type": "code",
   "execution_count": 159,
   "id": "f5683843",
   "metadata": {},
   "outputs": [],
   "source": [
    "#scraping brand name using xpath.\n",
    "\n",
    "brand=[]\n",
    "b_tag=driver.find_elements(By.XPATH,'//div[@class=\"_2WkVRV\"]')\n",
    "for i in b_tag:\n",
    "    bran=i.text\n",
    "    brand.append(bran)"
   ]
  },
  {
   "cell_type": "code",
   "execution_count": 160,
   "id": "539fb46a",
   "metadata": {},
   "outputs": [],
   "source": [
    "#scraping price as well as the dicount because it was ticked in the screen shot mentioned in the question. \n",
    "\n",
    "price=[]\n",
    "p_tag=driver.find_elements(By.XPATH,'//div[@class=\"_30jeq3\"]')\n",
    "for i in p_tag:\n",
    "    pri=i.text\n",
    "    price.append(pri)\n",
    "\n",
    "discount=[]\n",
    "d_tag=driver.find_elements(By.XPATH,'//div[@class=\"_3Ay6Sb\"]')\n",
    "for i in d_tag:\n",
    "    dis=i.text\n",
    "    discount.append(dis)"
   ]
  },
  {
   "cell_type": "code",
   "execution_count": 161,
   "id": "cee876e7",
   "metadata": {},
   "outputs": [],
   "source": [
    "#scraping the product description and there where some products on the first page whose description was in another xpath so \n",
    "#extracting those too using a different xpath and storing in same list.\n",
    "\n",
    "pro_descr=[]\n",
    "de_tag=driver.find_elements(By.XPATH,'//a[@class=\"IRpwTa\"]')\n",
    "for i in de_tag:\n",
    "    des=i.text\n",
    "    pro_descr.append(des)\n",
    "\n",
    "left=driver.find_elements(By.XPATH,'//a[@class=\"IRpwTa _2-ICcC\"]')\n",
    "for i in left:\n",
    "    pro_descr.append(i.text)"
   ]
  },
  {
   "cell_type": "code",
   "execution_count": 163,
   "id": "224e6561",
   "metadata": {},
   "outputs": [
    {
     "data": {
      "text/html": [
       "<div>\n",
       "<style scoped>\n",
       "    .dataframe tbody tr th:only-of-type {\n",
       "        vertical-align: middle;\n",
       "    }\n",
       "\n",
       "    .dataframe tbody tr th {\n",
       "        vertical-align: top;\n",
       "    }\n",
       "\n",
       "    .dataframe thead th {\n",
       "        text-align: right;\n",
       "    }\n",
       "</style>\n",
       "<table border=\"1\" class=\"dataframe\">\n",
       "  <thead>\n",
       "    <tr style=\"text-align: right;\">\n",
       "      <th></th>\n",
       "      <th>brand</th>\n",
       "      <th>price</th>\n",
       "      <th>dicount</th>\n",
       "      <th>description</th>\n",
       "    </tr>\n",
       "  </thead>\n",
       "  <tbody>\n",
       "    <tr>\n",
       "      <th>0</th>\n",
       "      <td>BRUTON</td>\n",
       "      <td>₹636</td>\n",
       "      <td>74% off</td>\n",
       "      <td>2 Combo Sneaker Shoes Sneakers For Men</td>\n",
       "    </tr>\n",
       "    <tr>\n",
       "      <th>1</th>\n",
       "      <td>ADIDAS</td>\n",
       "      <td>₹1,305</td>\n",
       "      <td>67% off</td>\n",
       "      <td>Easy Vulc 2.0 Sneakers For Men</td>\n",
       "    </tr>\n",
       "    <tr>\n",
       "      <th>2</th>\n",
       "      <td>aadi</td>\n",
       "      <td>₹374</td>\n",
       "      <td>81% off</td>\n",
       "      <td>Mesh | Ultralightweight | Comfortable | Breath...</td>\n",
       "    </tr>\n",
       "    <tr>\n",
       "      <th>3</th>\n",
       "      <td>Deals4you</td>\n",
       "      <td>₹373</td>\n",
       "      <td>62% off</td>\n",
       "      <td>Sneakers For Women</td>\n",
       "    </tr>\n",
       "    <tr>\n",
       "      <th>4</th>\n",
       "      <td>PUMA</td>\n",
       "      <td>₹1,542</td>\n",
       "      <td>55% off</td>\n",
       "      <td>Puma Smash Wns v2 L Sneakers For Women</td>\n",
       "    </tr>\n",
       "    <tr>\n",
       "      <th>5</th>\n",
       "      <td>Chevit</td>\n",
       "      <td>₹577</td>\n",
       "      <td>69% off</td>\n",
       "      <td>Super Stylish &amp; Trendy Combo Pack of 02 Pairs ...</td>\n",
       "    </tr>\n",
       "    <tr>\n",
       "      <th>6</th>\n",
       "      <td>Labbin</td>\n",
       "      <td>₹499</td>\n",
       "      <td>50% off</td>\n",
       "      <td>Sneakers For Men</td>\n",
       "    </tr>\n",
       "    <tr>\n",
       "      <th>7</th>\n",
       "      <td>RapidBox</td>\n",
       "      <td>₹630</td>\n",
       "      <td>36% off</td>\n",
       "      <td>Sneakers For Men</td>\n",
       "    </tr>\n",
       "    <tr>\n",
       "      <th>8</th>\n",
       "      <td>Deals4you</td>\n",
       "      <td>₹381</td>\n",
       "      <td>74% off</td>\n",
       "      <td>Cilia Sneakers For Women</td>\n",
       "    </tr>\n",
       "    <tr>\n",
       "      <th>9</th>\n",
       "      <td>PUMA</td>\n",
       "      <td>₹2,400</td>\n",
       "      <td>49% off</td>\n",
       "      <td>supr Sneakers For Men</td>\n",
       "    </tr>\n",
       "    <tr>\n",
       "      <th>10</th>\n",
       "      <td>Layasa</td>\n",
       "      <td>₹249</td>\n",
       "      <td>75% off</td>\n",
       "      <td>Sneakers For Women</td>\n",
       "    </tr>\n",
       "    <tr>\n",
       "      <th>11</th>\n",
       "      <td>Layasa</td>\n",
       "      <td>₹399</td>\n",
       "      <td>80% off</td>\n",
       "      <td>Sneakers For Men</td>\n",
       "    </tr>\n",
       "    <tr>\n",
       "      <th>12</th>\n",
       "      <td>Layasa</td>\n",
       "      <td>₹399</td>\n",
       "      <td>60% off</td>\n",
       "      <td>Glory Sneakers For Men</td>\n",
       "    </tr>\n",
       "    <tr>\n",
       "      <th>13</th>\n",
       "      <td>PUMA</td>\n",
       "      <td>₹1,747</td>\n",
       "      <td>41% off</td>\n",
       "      <td>Casual Sneakers Black Outdoor Shoes For Boys A...</td>\n",
       "    </tr>\n",
       "    <tr>\n",
       "      <th>14</th>\n",
       "      <td>Robbie jones</td>\n",
       "      <td>₹509</td>\n",
       "      <td>49% off</td>\n",
       "      <td>Sneakers For Men</td>\n",
       "    </tr>\n",
       "    <tr>\n",
       "      <th>15</th>\n",
       "      <td>aadi</td>\n",
       "      <td>₹380</td>\n",
       "      <td>61% off</td>\n",
       "      <td>Sneakers For Men</td>\n",
       "    </tr>\n",
       "    <tr>\n",
       "      <th>16</th>\n",
       "      <td>Magnolia</td>\n",
       "      <td>₹374</td>\n",
       "      <td>62% off</td>\n",
       "      <td>Sneakers For Men</td>\n",
       "    </tr>\n",
       "    <tr>\n",
       "      <th>17</th>\n",
       "      <td>Kzaara</td>\n",
       "      <td>₹259</td>\n",
       "      <td>74% off</td>\n",
       "      <td>Caracal Sneakers For Men</td>\n",
       "    </tr>\n",
       "    <tr>\n",
       "      <th>18</th>\n",
       "      <td>PUMA</td>\n",
       "      <td>₹2,618</td>\n",
       "      <td>47% off</td>\n",
       "      <td>Kwik FIT casual sneaker shoes and partywear sh...</td>\n",
       "    </tr>\n",
       "    <tr>\n",
       "      <th>19</th>\n",
       "      <td>JACK &amp; JONES</td>\n",
       "      <td>₹1,249</td>\n",
       "      <td>50% off</td>\n",
       "      <td>Sneakers For Men</td>\n",
       "    </tr>\n",
       "    <tr>\n",
       "      <th>20</th>\n",
       "      <td>KWIK FIT</td>\n",
       "      <td>₹397</td>\n",
       "      <td>80% off</td>\n",
       "      <td>Stylish Walking Partywear Sneakers Casual Shoe...</td>\n",
       "    </tr>\n",
       "    <tr>\n",
       "      <th>21</th>\n",
       "      <td>Layasa</td>\n",
       "      <td>₹399</td>\n",
       "      <td>60% off</td>\n",
       "      <td>Sneakers For Women</td>\n",
       "    </tr>\n",
       "    <tr>\n",
       "      <th>22</th>\n",
       "      <td>Shozie</td>\n",
       "      <td>₹559</td>\n",
       "      <td>44% off</td>\n",
       "      <td>Unique &amp; Perfect Collection Combo Pack of 02 S...</td>\n",
       "    </tr>\n",
       "    <tr>\n",
       "      <th>23</th>\n",
       "      <td>RapidBox</td>\n",
       "      <td>₹620</td>\n",
       "      <td>37% off</td>\n",
       "      <td>Sneakers For Men</td>\n",
       "    </tr>\n",
       "    <tr>\n",
       "      <th>24</th>\n",
       "      <td>URBANBOX</td>\n",
       "      <td>₹197</td>\n",
       "      <td>80% off</td>\n",
       "      <td>Modern Trendy Sneakers boot Sneakers For Men</td>\n",
       "    </tr>\n",
       "    <tr>\n",
       "      <th>25</th>\n",
       "      <td>Layasa</td>\n",
       "      <td>₹498</td>\n",
       "      <td>50% off</td>\n",
       "      <td>Sneakers For Men</td>\n",
       "    </tr>\n",
       "    <tr>\n",
       "      <th>26</th>\n",
       "      <td>Chevit</td>\n",
       "      <td>₹459</td>\n",
       "      <td>69% off</td>\n",
       "      <td>Sneakers For Men</td>\n",
       "    </tr>\n",
       "    <tr>\n",
       "      <th>27</th>\n",
       "      <td>U.S. POLO ASSN.</td>\n",
       "      <td>₹1,804</td>\n",
       "      <td>54% off</td>\n",
       "      <td>GAIMAN 2.O Sneakers For Men</td>\n",
       "    </tr>\n",
       "    <tr>\n",
       "      <th>28</th>\n",
       "      <td>Xtoon</td>\n",
       "      <td>₹424</td>\n",
       "      <td>71% off</td>\n",
       "      <td>supr Sneakers For Men</td>\n",
       "    </tr>\n",
       "    <tr>\n",
       "      <th>29</th>\n",
       "      <td>Layasa</td>\n",
       "      <td>₹351</td>\n",
       "      <td>64% off</td>\n",
       "      <td>Sneakers For Men</td>\n",
       "    </tr>\n",
       "    <tr>\n",
       "      <th>30</th>\n",
       "      <td>Magnolia</td>\n",
       "      <td>₹354</td>\n",
       "      <td>64% off</td>\n",
       "      <td>Sneakers Sneakers For Men</td>\n",
       "    </tr>\n",
       "    <tr>\n",
       "      <th>31</th>\n",
       "      <td>U.S. POLO ASSN.</td>\n",
       "      <td>₹1,619</td>\n",
       "      <td>46% off</td>\n",
       "      <td>Sneakers For Women</td>\n",
       "    </tr>\n",
       "    <tr>\n",
       "      <th>32</th>\n",
       "      <td>Layasa</td>\n",
       "      <td>₹249</td>\n",
       "      <td>75% off</td>\n",
       "      <td>White Sneaker For Men's/Boy's Sneakers For Men</td>\n",
       "    </tr>\n",
       "    <tr>\n",
       "      <th>33</th>\n",
       "      <td>Magnolia</td>\n",
       "      <td>₹399</td>\n",
       "      <td>60% off</td>\n",
       "      <td>Sneakers For Women</td>\n",
       "    </tr>\n",
       "    <tr>\n",
       "      <th>34</th>\n",
       "      <td>SCATCHITE</td>\n",
       "      <td>₹351</td>\n",
       "      <td>64% off</td>\n",
       "      <td>Rebound JOY Sneakers For Men</td>\n",
       "    </tr>\n",
       "    <tr>\n",
       "      <th>35</th>\n",
       "      <td>Layasa</td>\n",
       "      <td>₹399</td>\n",
       "      <td>80% off</td>\n",
       "      <td>Sneakers For Men</td>\n",
       "    </tr>\n",
       "    <tr>\n",
       "      <th>36</th>\n",
       "      <td>Shoes Bank</td>\n",
       "      <td>₹297</td>\n",
       "      <td>70% off</td>\n",
       "      <td>Sneakers For Men</td>\n",
       "    </tr>\n",
       "    <tr>\n",
       "      <th>37</th>\n",
       "      <td>Deals4you</td>\n",
       "      <td>₹479</td>\n",
       "      <td>68% off</td>\n",
       "      <td>Sneakers For Men</td>\n",
       "    </tr>\n",
       "    <tr>\n",
       "      <th>38</th>\n",
       "      <td>PUMA</td>\n",
       "      <td>₹3,054</td>\n",
       "      <td>44% off</td>\n",
       "      <td>Sneakers For Men</td>\n",
       "    </tr>\n",
       "    <tr>\n",
       "      <th>39</th>\n",
       "      <td>Roadster</td>\n",
       "      <td>₹1,104</td>\n",
       "      <td>70% off</td>\n",
       "      <td>Sneakers Sneakers For Men</td>\n",
       "    </tr>\n",
       "  </tbody>\n",
       "</table>\n",
       "</div>"
      ],
      "text/plain": [
       "              brand   price  dicount  \\\n",
       "0            BRUTON    ₹636  74% off   \n",
       "1            ADIDAS  ₹1,305  67% off   \n",
       "2              aadi    ₹374  81% off   \n",
       "3         Deals4you    ₹373  62% off   \n",
       "4              PUMA  ₹1,542  55% off   \n",
       "5            Chevit    ₹577  69% off   \n",
       "6            Labbin    ₹499  50% off   \n",
       "7          RapidBox    ₹630  36% off   \n",
       "8         Deals4you    ₹381  74% off   \n",
       "9              PUMA  ₹2,400  49% off   \n",
       "10           Layasa    ₹249  75% off   \n",
       "11           Layasa    ₹399  80% off   \n",
       "12           Layasa    ₹399  60% off   \n",
       "13             PUMA  ₹1,747  41% off   \n",
       "14     Robbie jones    ₹509  49% off   \n",
       "15             aadi    ₹380  61% off   \n",
       "16         Magnolia    ₹374  62% off   \n",
       "17           Kzaara    ₹259  74% off   \n",
       "18             PUMA  ₹2,618  47% off   \n",
       "19     JACK & JONES  ₹1,249  50% off   \n",
       "20         KWIK FIT    ₹397  80% off   \n",
       "21           Layasa    ₹399  60% off   \n",
       "22           Shozie    ₹559  44% off   \n",
       "23         RapidBox    ₹620  37% off   \n",
       "24         URBANBOX    ₹197  80% off   \n",
       "25           Layasa    ₹498  50% off   \n",
       "26           Chevit    ₹459  69% off   \n",
       "27  U.S. POLO ASSN.  ₹1,804  54% off   \n",
       "28            Xtoon    ₹424  71% off   \n",
       "29           Layasa    ₹351  64% off   \n",
       "30         Magnolia    ₹354  64% off   \n",
       "31  U.S. POLO ASSN.  ₹1,619  46% off   \n",
       "32           Layasa    ₹249  75% off   \n",
       "33         Magnolia    ₹399  60% off   \n",
       "34        SCATCHITE    ₹351  64% off   \n",
       "35           Layasa    ₹399  80% off   \n",
       "36       Shoes Bank    ₹297  70% off   \n",
       "37        Deals4you    ₹479  68% off   \n",
       "38             PUMA  ₹3,054  44% off   \n",
       "39         Roadster  ₹1,104  70% off   \n",
       "\n",
       "                                          description  \n",
       "0              2 Combo Sneaker Shoes Sneakers For Men  \n",
       "1                      Easy Vulc 2.0 Sneakers For Men  \n",
       "2   Mesh | Ultralightweight | Comfortable | Breath...  \n",
       "3                                  Sneakers For Women  \n",
       "4              Puma Smash Wns v2 L Sneakers For Women  \n",
       "5   Super Stylish & Trendy Combo Pack of 02 Pairs ...  \n",
       "6                                    Sneakers For Men  \n",
       "7                                    Sneakers For Men  \n",
       "8                            Cilia Sneakers For Women  \n",
       "9                               supr Sneakers For Men  \n",
       "10                                 Sneakers For Women  \n",
       "11                                   Sneakers For Men  \n",
       "12                             Glory Sneakers For Men  \n",
       "13  Casual Sneakers Black Outdoor Shoes For Boys A...  \n",
       "14                                   Sneakers For Men  \n",
       "15                                   Sneakers For Men  \n",
       "16                                   Sneakers For Men  \n",
       "17                           Caracal Sneakers For Men  \n",
       "18  Kwik FIT casual sneaker shoes and partywear sh...  \n",
       "19                                   Sneakers For Men  \n",
       "20  Stylish Walking Partywear Sneakers Casual Shoe...  \n",
       "21                                 Sneakers For Women  \n",
       "22  Unique & Perfect Collection Combo Pack of 02 S...  \n",
       "23                                   Sneakers For Men  \n",
       "24       Modern Trendy Sneakers boot Sneakers For Men  \n",
       "25                                   Sneakers For Men  \n",
       "26                                   Sneakers For Men  \n",
       "27                        GAIMAN 2.O Sneakers For Men  \n",
       "28                              supr Sneakers For Men  \n",
       "29                                   Sneakers For Men  \n",
       "30                          Sneakers Sneakers For Men  \n",
       "31                                 Sneakers For Women  \n",
       "32     White Sneaker For Men's/Boy's Sneakers For Men  \n",
       "33                                 Sneakers For Women  \n",
       "34                       Rebound JOY Sneakers For Men  \n",
       "35                                   Sneakers For Men  \n",
       "36                                   Sneakers For Men  \n",
       "37                                   Sneakers For Men  \n",
       "38                                   Sneakers For Men  \n",
       "39                          Sneakers Sneakers For Men  "
      ]
     },
     "execution_count": 163,
     "metadata": {},
     "output_type": "execute_result"
    }
   ],
   "source": [
    "#checking wether the data has been extracted or not by creating datafram from the extracted data.\n",
    "\n",
    "fh=pd.DataFrame({'brand':brand,'price':price,'dicount':discount,'description':pro_descr})\n",
    "fh"
   ]
  },
  {
   "cell_type": "code",
   "execution_count": 164,
   "id": "0258b4cd",
   "metadata": {},
   "outputs": [
    {
     "data": {
      "text/plain": [
       "[<selenium.webdriver.remote.webelement.WebElement (session=\"e16bf5a45f665aa516d66241a5a4bbd5\", element=\"fe2a817e-1343-4825-8e0c-0e9c2c612208\")>,\n",
       " <selenium.webdriver.remote.webelement.WebElement (session=\"e16bf5a45f665aa516d66241a5a4bbd5\", element=\"60bb9f29-8b3f-445e-9079-9412d5f07f9b\")>,\n",
       " <selenium.webdriver.remote.webelement.WebElement (session=\"e16bf5a45f665aa516d66241a5a4bbd5\", element=\"af937535-bbf0-4e15-a73c-6a0d4d33e297\")>,\n",
       " <selenium.webdriver.remote.webelement.WebElement (session=\"e16bf5a45f665aa516d66241a5a4bbd5\", element=\"67a2eba9-1327-4765-b021-77513e9ab31d\")>,\n",
       " <selenium.webdriver.remote.webelement.WebElement (session=\"e16bf5a45f665aa516d66241a5a4bbd5\", element=\"f9ca54dd-72e2-4dc2-82ad-699eb8f6fe4a\")>,\n",
       " <selenium.webdriver.remote.webelement.WebElement (session=\"e16bf5a45f665aa516d66241a5a4bbd5\", element=\"ecdbc74d-597c-4e59-aacd-89bbe0f9ddc6\")>,\n",
       " <selenium.webdriver.remote.webelement.WebElement (session=\"e16bf5a45f665aa516d66241a5a4bbd5\", element=\"535e04f2-7910-433e-82ce-5470ca7084ae\")>,\n",
       " <selenium.webdriver.remote.webelement.WebElement (session=\"e16bf5a45f665aa516d66241a5a4bbd5\", element=\"da12fd2d-e511-4219-a42a-a9d62b748493\")>,\n",
       " <selenium.webdriver.remote.webelement.WebElement (session=\"e16bf5a45f665aa516d66241a5a4bbd5\", element=\"72a87dd7-ce3a-4ae4-b26a-ee0a36c1be78\")>,\n",
       " <selenium.webdriver.remote.webelement.WebElement (session=\"e16bf5a45f665aa516d66241a5a4bbd5\", element=\"baac34c8-3319-4efe-b298-126fedfd3a60\")>,\n",
       " <selenium.webdriver.remote.webelement.WebElement (session=\"e16bf5a45f665aa516d66241a5a4bbd5\", element=\"f0cd8436-9327-448f-909d-078009c07e8b\")>,\n",
       " <selenium.webdriver.remote.webelement.WebElement (session=\"e16bf5a45f665aa516d66241a5a4bbd5\", element=\"cc66ae07-7c9f-4eed-ae76-b86817ea02e5\")>,\n",
       " <selenium.webdriver.remote.webelement.WebElement (session=\"e16bf5a45f665aa516d66241a5a4bbd5\", element=\"2690c93b-06de-4c3a-ac76-154cda6d1386\")>,\n",
       " <selenium.webdriver.remote.webelement.WebElement (session=\"e16bf5a45f665aa516d66241a5a4bbd5\", element=\"ddaabc35-4434-4a3a-bb1c-daf08f82798c\")>,\n",
       " <selenium.webdriver.remote.webelement.WebElement (session=\"e16bf5a45f665aa516d66241a5a4bbd5\", element=\"64826a8e-b681-4ac8-87df-b639c8f01c59\")>,\n",
       " <selenium.webdriver.remote.webelement.WebElement (session=\"e16bf5a45f665aa516d66241a5a4bbd5\", element=\"e1c4ba8c-f309-4e31-952f-7272e1458230\")>,\n",
       " <selenium.webdriver.remote.webelement.WebElement (session=\"e16bf5a45f665aa516d66241a5a4bbd5\", element=\"5ad905e6-1682-43a0-b58b-c09905120315\")>,\n",
       " <selenium.webdriver.remote.webelement.WebElement (session=\"e16bf5a45f665aa516d66241a5a4bbd5\", element=\"74e1fbf5-c61e-47fa-84c7-1fc0295edfc8\")>,\n",
       " <selenium.webdriver.remote.webelement.WebElement (session=\"e16bf5a45f665aa516d66241a5a4bbd5\", element=\"cc6ad703-686d-4dd0-aed0-461468e40413\")>,\n",
       " <selenium.webdriver.remote.webelement.WebElement (session=\"e16bf5a45f665aa516d66241a5a4bbd5\", element=\"5ec3ea15-486f-4976-b783-13de87badd7b\")>,\n",
       " <selenium.webdriver.remote.webelement.WebElement (session=\"e16bf5a45f665aa516d66241a5a4bbd5\", element=\"86b5be02-a30b-4007-8990-0b07477f470d\")>,\n",
       " <selenium.webdriver.remote.webelement.WebElement (session=\"e16bf5a45f665aa516d66241a5a4bbd5\", element=\"32b74bd0-0892-46c0-af23-92a209c6a41b\")>,\n",
       " <selenium.webdriver.remote.webelement.WebElement (session=\"e16bf5a45f665aa516d66241a5a4bbd5\", element=\"c59fee53-5a7c-40d3-b85e-1ce68bdd96c8\")>,\n",
       " <selenium.webdriver.remote.webelement.WebElement (session=\"e16bf5a45f665aa516d66241a5a4bbd5\", element=\"f5bd5b1c-8812-42cf-aa61-fe7990488e9b\")>,\n",
       " <selenium.webdriver.remote.webelement.WebElement (session=\"e16bf5a45f665aa516d66241a5a4bbd5\", element=\"30822910-efa6-47fe-901b-d6c81e36e68c\")>,\n",
       " <selenium.webdriver.remote.webelement.WebElement (session=\"e16bf5a45f665aa516d66241a5a4bbd5\", element=\"9b94567c-db82-449d-8c34-b2293107db3e\")>,\n",
       " <selenium.webdriver.remote.webelement.WebElement (session=\"e16bf5a45f665aa516d66241a5a4bbd5\", element=\"7b031882-b8fc-41a9-9d96-da7caf14923b\")>,\n",
       " <selenium.webdriver.remote.webelement.WebElement (session=\"e16bf5a45f665aa516d66241a5a4bbd5\", element=\"55a7838a-0fed-46ce-b155-e91bca45caf0\")>,\n",
       " <selenium.webdriver.remote.webelement.WebElement (session=\"e16bf5a45f665aa516d66241a5a4bbd5\", element=\"ef3c878f-7a95-449b-a8d5-c20088b983bc\")>,\n",
       " <selenium.webdriver.remote.webelement.WebElement (session=\"e16bf5a45f665aa516d66241a5a4bbd5\", element=\"edc6523e-84f6-4f29-810c-bbc36ed0d314\")>,\n",
       " <selenium.webdriver.remote.webelement.WebElement (session=\"e16bf5a45f665aa516d66241a5a4bbd5\", element=\"3a8525c4-3d99-4f75-ab81-8b504b0afb21\")>,\n",
       " <selenium.webdriver.remote.webelement.WebElement (session=\"e16bf5a45f665aa516d66241a5a4bbd5\", element=\"cf9804ed-2ec3-45ff-8711-f82efd778e19\")>,\n",
       " <selenium.webdriver.remote.webelement.WebElement (session=\"e16bf5a45f665aa516d66241a5a4bbd5\", element=\"5cc109d0-c1b4-4472-81ca-faf08ec13fe6\")>,\n",
       " <selenium.webdriver.remote.webelement.WebElement (session=\"e16bf5a45f665aa516d66241a5a4bbd5\", element=\"3101e6b4-d844-4407-8b34-849a023ad8ff\")>,\n",
       " <selenium.webdriver.remote.webelement.WebElement (session=\"e16bf5a45f665aa516d66241a5a4bbd5\", element=\"62ee25af-02ba-49b6-bc77-17424ac61da4\")>,\n",
       " <selenium.webdriver.remote.webelement.WebElement (session=\"e16bf5a45f665aa516d66241a5a4bbd5\", element=\"4d7b337e-6106-453a-8831-d6b350fb3cd7\")>,\n",
       " <selenium.webdriver.remote.webelement.WebElement (session=\"e16bf5a45f665aa516d66241a5a4bbd5\", element=\"ebe1001d-a5fa-427a-9f19-f29beb1878f7\")>,\n",
       " <selenium.webdriver.remote.webelement.WebElement (session=\"e16bf5a45f665aa516d66241a5a4bbd5\", element=\"8cbd6441-02a8-4c84-a803-131e49eefd1c\")>,\n",
       " <selenium.webdriver.remote.webelement.WebElement (session=\"e16bf5a45f665aa516d66241a5a4bbd5\", element=\"b05e6026-db05-4945-907c-ed04e2c7c525\")>,\n",
       " <selenium.webdriver.remote.webelement.WebElement (session=\"e16bf5a45f665aa516d66241a5a4bbd5\", element=\"46d629bc-c7d2-4a58-9527-1a0b40e76ed7\")>]"
      ]
     },
     "execution_count": 164,
     "metadata": {},
     "output_type": "execute_result"
    }
   ],
   "source": [
    "#scraping the url from the site page.\n",
    "\n",
    "url=driver.find_elements(By.XPATH,'//a[@class=\"_2UzuFa\"]')\n",
    "url"
   ]
  },
  {
   "cell_type": "code",
   "execution_count": 165,
   "id": "c27c470f",
   "metadata": {},
   "outputs": [
    {
     "name": "stdout",
     "output_type": "stream",
     "text": [
      "https://www.flipkart.com/bruton-2-combo-sneaker-shoes-sneakers-men/p/itmc7635b46cf505?pid=SHOGFHSHBBAFSUDJ&lid=LSTSHOGFHSHBBAFSUDJNZQAU6&marketplace=FLIPKART&q=Sneakers&store=osp&srno=s_1_1&otracker=search&otracker1=search&fm=organic&iid=en_R8iES%2FGp6mlTGugtwX3%2BTEpgnxb5RlZ9qC7QuiCrBTFqYz%2F1VNtemi3TcgzbnkIQ4tb%2BZCMy%2BFPvUBCB2S%2FrrA%3D%3D&ppt=hp&ppn=homepage&ssid=zb9cipssn40000001660915046072&qH=ea24260ef5764089\n",
      "https://www.flipkart.com/adidas-easy-vulc-2-0-sneakers-men/p/itmfhwp9f5bkbh4g?pid=SHOFU43P7VBDBVHN&lid=LSTSHOFU43P7VBDBVHNMZAEJR&marketplace=FLIPKART&q=Sneakers&store=osp&srno=s_1_2&otracker=search&otracker1=search&fm=organic&iid=en_R8iES%2FGp6mlTGugtwX3%2BTEpgnxb5RlZ9qC7QuiCrBTF537kslp8OfAt3ZFjvjLAR%2Ba%2BBCLvMR65fRgCScT24ZQ%3D%3D&ppt=hp&ppn=homepage&ssid=zb9cipssn40000001660915046072&qH=ea24260ef5764089\n",
      "https://www.flipkart.com/aadi-mesh-ultralightweight-comfortable-breathable-walking-outdoor-daily-use-sneakers-men/p/itma442bf9226209?pid=SHOGDZZESTTE3ZUY&lid=LSTSHOGDZZESTTE3ZUY3QPNXC&marketplace=FLIPKART&q=Sneakers&store=osp&srno=s_1_3&otracker=search&otracker1=search&fm=organic&iid=3b908c3f-80c8-4cf5-a6b8-57ee08f14b0d.SHOGDZZESTTE3ZUY.SEARCH&ppt=hp&ppn=homepage&ssid=zb9cipssn40000001660915046072&qH=ea24260ef5764089\n",
      "https://www.flipkart.com/deals4you-sneakers-women/p/itmd1241f2f24eb8?pid=SHOG7PJ6CBYM4AVD&lid=LSTSHOG7PJ6CBYM4AVDGU3MZK&marketplace=FLIPKART&q=Sneakers&store=osp&srno=s_1_4&otracker=search&otracker1=search&fm=organic&iid=3b908c3f-80c8-4cf5-a6b8-57ee08f14b0d.SHOG7PJ6CBYM4AVD.SEARCH&ppt=hp&ppn=homepage&ssid=zb9cipssn40000001660915046072&qH=ea24260ef5764089\n",
      "https://www.flipkart.com/puma-smash-wns-v2-l-sneakers-women/p/itmf3xthgykjgke4?pid=SHOF243X4X6YGNJA&lid=LSTSHOF243X4X6YGNJA74GIV5&marketplace=FLIPKART&q=Sneakers&store=osp&srno=s_1_5&otracker=search&otracker1=search&fm=organic&iid=3b908c3f-80c8-4cf5-a6b8-57ee08f14b0d.SHOF243X4X6YGNJA.SEARCH&ppt=hp&ppn=homepage&ssid=zb9cipssn40000001660915046072&qH=ea24260ef5764089\n",
      "https://www.flipkart.com/chevit-super-stylish-trendy-combo-pack-02-pairs-sneakers-outdoor-sports-running-rock-climbing-gym-shoes-men/p/itmfce3a6f2183d4?pid=SHOGFVTH5Y9ESGVP&lid=LSTSHOGFVTH5Y9ESGVP5DV5S7&marketplace=FLIPKART&q=Sneakers&store=osp&srno=s_1_6&otracker=search&otracker1=search&fm=organic&iid=3b908c3f-80c8-4cf5-a6b8-57ee08f14b0d.SHOGFVTH5Y9ESGVP.SEARCH&ppt=hp&ppn=homepage&ssid=zb9cipssn40000001660915046072&qH=ea24260ef5764089\n",
      "https://www.flipkart.com/labbin-sneakers-men/p/itm22551963c0809?pid=SHOG497GVHMHTKMH&lid=LSTSHOG497GVHMHTKMHOV3U7K&marketplace=FLIPKART&q=Sneakers&store=osp&srno=s_1_7&otracker=search&otracker1=search&fm=organic&iid=3b908c3f-80c8-4cf5-a6b8-57ee08f14b0d.SHOG497GVHMHTKMH.SEARCH&ppt=hp&ppn=homepage&ssid=zb9cipssn40000001660915046072&qH=ea24260ef5764089\n",
      "https://www.flipkart.com/rapidbox-sneakers-men/p/itm00df7333b67b8?pid=SHOG72GEGG6G5HBH&lid=LSTSHOG72GEGG6G5HBHZFGLZQ&marketplace=FLIPKART&q=Sneakers&store=osp&srno=s_1_8&otracker=search&otracker1=search&fm=organic&iid=en_R8iES%2FGp6mlTGugtwX3%2BTEpgnxb5RlZ9qC7QuiCrBTEyrSXXAKpT6k8e9iRG7ePaZzYp%2FfAmWI5aHWcHTrBmdQ%3D%3D&ppt=hp&ppn=homepage&ssid=zb9cipssn40000001660915046072&qH=ea24260ef5764089\n",
      "https://www.flipkart.com/deals4you-sneakers-men/p/itm662bc62a465d9?pid=SHOGBNQHMHRZYPV9&lid=LSTSHOGBNQHMHRZYPV9E0CZPQ&marketplace=FLIPKART&q=Sneakers&store=osp&srno=s_1_9&otracker=search&otracker1=search&fm=organic&iid=3b908c3f-80c8-4cf5-a6b8-57ee08f14b0d.SHOGBNQHMHRZYPV9.SEARCH&ppt=hp&ppn=homepage&ssid=zb9cipssn40000001660915046072&qH=ea24260ef5764089\n",
      "https://www.flipkart.com/puma-cilia-sneakers-women/p/itmfd87rdvychcue?pid=SHOFD86WNVZBVAZK&lid=LSTSHOFD86WNVZBVAZKRHBU7N&marketplace=FLIPKART&q=Sneakers&store=osp&srno=s_1_10&otracker=search&otracker1=search&fm=organic&iid=3b908c3f-80c8-4cf5-a6b8-57ee08f14b0d.SHOFD86WNVZBVAZK.SEARCH&ppt=hp&ppn=homepage&ssid=zb9cipssn40000001660915046072&qH=ea24260ef5764089\n",
      "https://www.flipkart.com/layasa-supr-sneakers-men/p/itmc066ea8498886?pid=SHOGFD62FRHDYTQP&lid=LSTSHOGFD62FRHDYTQPBWLZJI&marketplace=FLIPKART&q=Sneakers&store=osp&srno=s_1_11&otracker=search&otracker1=search&fm=organic&iid=3b908c3f-80c8-4cf5-a6b8-57ee08f14b0d.SHOGFD62FRHDYTQP.SEARCH&ppt=hp&ppn=homepage&ssid=zb9cipssn40000001660915046072&qH=ea24260ef5764089\n",
      "https://www.flipkart.com/layasa-sneakers-women/p/itmdc683fa7294f7?pid=SHOGGZFDYYBHVH6D&lid=LSTSHOGGZFDYYBHVH6DX98HTS&marketplace=FLIPKART&q=Sneakers&store=osp&srno=s_1_12&otracker=search&otracker1=search&fm=organic&iid=en_R8iES%2FGp6mlTGugtwX3%2BTEpgnxb5RlZ9qC7QuiCrBTHRaoFG02OEvctspVbYctcQXURw0zbiX%2F2scL7xY1yrbw%3D%3D&ppt=hp&ppn=homepage&ssid=zb9cipssn40000001660915046072&qH=ea24260ef5764089\n",
      "https://www.flipkart.com/layasa-sneakers-men/p/itm4bfb14824c769?pid=SHOGBHNFHY8ZDWQP&lid=LSTSHOGBHNFHY8ZDWQP5K84MS&marketplace=FLIPKART&q=Sneakers&store=osp&srno=s_1_13&otracker=search&otracker1=search&fm=organic&iid=3b908c3f-80c8-4cf5-a6b8-57ee08f14b0d.SHOGBHNFHY8ZDWQP.SEARCH&ppt=hp&ppn=homepage&ssid=zb9cipssn40000001660915046072&qH=ea24260ef5764089\n",
      "https://www.flipkart.com/puma-glory-sneakers-men/p/itmf0fc7d5dce4b4?pid=SHOG8VF7GRUEAMKE&lid=LSTSHOG8VF7GRUEAMKEV02NJ2&marketplace=FLIPKART&q=Sneakers&store=osp&srno=s_1_14&otracker=search&otracker1=search&fm=organic&iid=3b908c3f-80c8-4cf5-a6b8-57ee08f14b0d.SHOG8VF7GRUEAMKE.SEARCH&ppt=hp&ppn=homepage&ssid=zb9cipssn40000001660915046072&qH=ea24260ef5764089\n",
      "https://www.flipkart.com/robbie-jones-casual-sneakers-black-outdoor-shoes-boys-men/p/itm3b84b3512da8e?pid=SHOGGHBFZRPHKZGT&lid=LSTSHOGGHBFZRPHKZGT8PYFDG&marketplace=FLIPKART&q=Sneakers&store=osp&srno=s_1_15&otracker=search&otracker1=search&fm=organic&iid=3b908c3f-80c8-4cf5-a6b8-57ee08f14b0d.SHOGGHBFZRPHKZGT.SEARCH&ppt=hp&ppn=homepage&ssid=zb9cipssn40000001660915046072&qH=ea24260ef5764089\n",
      "https://www.flipkart.com/aadi-sneakers-men/p/itm8ebba9b34ffb6?pid=SHOGAXTKZYWJUDZA&lid=LSTSHOGAXTKZYWJUDZAHSK0S0&marketplace=FLIPKART&q=Sneakers&store=osp&srno=s_1_16&otracker=search&otracker1=search&fm=organic&iid=en_R8iES%2FGp6mlTGugtwX3%2BTEpgnxb5RlZ9qC7QuiCrBTFtr1AgJg0EXHavHAcxsR2jHK7r4KSOD0eColMKYv9M0g%3D%3D&ppt=hp&ppn=homepage&ssid=zb9cipssn40000001660915046072&qH=ea24260ef5764089\n",
      "https://www.flipkart.com/magnolia-sneakers-men/p/itm5160316c9ee0f?pid=SHOG69HDHGHVUDKD&lid=LSTSHOG69HDHGHVUDKDKQRVJN&marketplace=FLIPKART&q=Sneakers&store=osp&srno=s_1_17&otracker=search&otracker1=search&fm=organic&iid=3b908c3f-80c8-4cf5-a6b8-57ee08f14b0d.SHOG69HDHGHVUDKD.SEARCH&ppt=hp&ppn=homepage&ssid=zb9cipssn40000001660915046072&qH=ea24260ef5764089\n",
      "https://www.flipkart.com/kzaara-sneakers-men/p/itm540d765c42d7d?pid=SHOG8YYWH4M2BRNR&lid=LSTSHOG8YYWH4M2BRNRGYQ959&marketplace=FLIPKART&q=Sneakers&store=osp&srno=s_1_18&otracker=search&otracker1=search&fm=organic&iid=3b908c3f-80c8-4cf5-a6b8-57ee08f14b0d.SHOG8YYWH4M2BRNR.SEARCH&ppt=hp&ppn=homepage&ssid=zb9cipssn40000001660915046072&qH=ea24260ef5764089\n",
      "https://www.flipkart.com/puma-caracal-sneakers-men/p/itm1a22901aacba9?pid=SHOG24R9UHWCZGPK&lid=LSTSHOG24R9UHWCZGPKY28ZVS&marketplace=FLIPKART&q=Sneakers&store=osp&srno=s_1_19&otracker=search&otracker1=search&fm=organic&iid=3b908c3f-80c8-4cf5-a6b8-57ee08f14b0d.SHOG24R9UHWCZGPK.SEARCH&ppt=hp&ppn=homepage&ssid=zb9cipssn40000001660915046072&qH=ea24260ef5764089\n",
      "https://www.flipkart.com/jack-jones-sneakers-men/p/itmf3691e9d7dbf4?pid=SHOGAGZ9JYGQ4TYS&lid=LSTSHOGAGZ9JYGQ4TYSOY87LU&marketplace=FLIPKART&q=Sneakers&store=osp&srno=s_1_20&otracker=search&otracker1=search&fm=organic&iid=en_R8iES%2FGp6mlTGugtwX3%2BTEpgnxb5RlZ9qC7QuiCrBTFwvps4B8EV6KP60XPUnsJdfU6QeO9tkc70P74iJrFKWQ%3D%3D&ppt=hp&ppn=homepage&ssid=zb9cipssn40000001660915046072&qH=ea24260ef5764089\n",
      "https://www.flipkart.com/kwik-fit-casual-sneaker-shoes-partywear-casuals-men-sneakers/p/itm0103df1c6c4cf?pid=SHOGAUYVGZ56H5MS&lid=LSTSHOGAUYVGZ56H5MSGLOT4E&marketplace=FLIPKART&q=Sneakers&store=osp&srno=s_1_21&otracker=search&otracker1=search&fm=organic&iid=3b908c3f-80c8-4cf5-a6b8-57ee08f14b0d.SHOGAUYVGZ56H5MS.SEARCH&ppt=hp&ppn=homepage&ssid=zb9cipssn40000001660915046072&qH=ea24260ef5764089\n",
      "https://www.flipkart.com/layasa-sneakers-men/p/itmad75e88ddaa33?pid=SHOGBY74HUDGUTUY&lid=LSTSHOGBY74HUDGUTUY5BHU8Y&marketplace=FLIPKART&q=Sneakers&store=osp&srno=s_1_22&otracker=search&otracker1=search&fm=organic&iid=3b908c3f-80c8-4cf5-a6b8-57ee08f14b0d.SHOGBY74HUDGUTUY.SEARCH&ppt=hp&ppn=homepage&ssid=zb9cipssn40000001660915046072&qH=ea24260ef5764089\n",
      "https://www.flipkart.com/shozie-stylish-walking-partywear-sneakers-casual-shoes-women/p/itma93ebdf084596?pid=SHOGEGDBGD7HGZYS&lid=LSTSHOGEGDBGD7HGZYSAZZOKO&marketplace=FLIPKART&q=Sneakers&store=osp&srno=s_1_23&otracker=search&otracker1=search&fm=organic&iid=3b908c3f-80c8-4cf5-a6b8-57ee08f14b0d.SHOGEGDBGD7HGZYS.SEARCH&ppt=hp&ppn=homepage&ssid=zb9cipssn40000001660915046072&qH=ea24260ef5764089\n",
      "https://www.flipkart.com/rapidbox-sneakers-men/p/itmadd56ae770504?pid=SHOG6WUK6CHBTR4E&lid=LSTSHOG6WUK6CHBTR4E56CKQV&marketplace=FLIPKART&q=Sneakers&store=osp&srno=s_1_24&otracker=search&otracker1=search&fm=organic&iid=en_R8iES%2FGp6mlTGugtwX3%2BTEpgnxb5RlZ9qC7QuiCrBTGA91MPq5avByPu5CcIvfaWjePeUZwH66iNDs3qPI1Jaw%3D%3D&ppt=hp&ppn=homepage&ssid=zb9cipssn40000001660915046072&qH=ea24260ef5764089\n",
      "https://www.flipkart.com/urbanbox-sneakers-men/p/itm93c2f351df0f6?pid=SHOFXPSFHWFVPCPF&lid=LSTSHOFXPSFHWFVPCPF0AHVV1&marketplace=FLIPKART&q=Sneakers&store=osp&srno=s_1_25&otracker=search&otracker1=search&fm=organic&iid=3b908c3f-80c8-4cf5-a6b8-57ee08f14b0d.SHOFXPSFHWFVPCPF.SEARCH&ppt=hp&ppn=homepage&ssid=zb9cipssn40000001660915046072&qH=ea24260ef5764089\n",
      "https://www.flipkart.com/layasa-sneakers-women/p/itm8976551a1ff53?pid=SHOGGHBNQY5TG6HT&lid=LSTSHOGGHBNQY5TG6HTD1KEJT&marketplace=FLIPKART&q=Sneakers&store=osp&srno=s_1_26&otracker=search&otracker1=search&fm=organic&iid=3b908c3f-80c8-4cf5-a6b8-57ee08f14b0d.SHOGGHBNQY5TG6HT.SEARCH&ppt=hp&ppn=homepage&ssid=zb9cipssn40000001660915046072&qH=ea24260ef5764089\n",
      "https://www.flipkart.com/chevit-unique-perfect-collection-combo-pack-02-shoes-men-casual-sneakers-outdoor-walking-sport-running-gym-cycling-trekking-rock-climbing/p/itmff4e5480ba998?pid=SHOGYX9SX8ZHGMYH&lid=LSTSHOGYX9SX8ZHGMYHMNOSZZ&marketplace=FLIPKART&q=Sneakers&store=osp&srno=s_1_27&otracker=search&otracker1=search&fm=organic&iid=3b908c3f-80c8-4cf5-a6b8-57ee08f14b0d.SHOGYX9SX8ZHGMYH.SEARCH&ppt=hp&ppn=homepage&ssid=zb9cipssn40000001660915046072&qH=ea24260ef5764089\n",
      "https://www.flipkart.com/u-s-polo-assn-sneakers-men/p/itm1fa3d3c3d237d?pid=SHOFQDE4ZFTZUG6X&lid=LSTSHOFQDE4ZFTZUG6XCMNLGN&marketplace=FLIPKART&q=Sneakers&store=osp&srno=s_1_28&otracker=search&otracker1=search&fm=organic&iid=en_R8iES%2FGp6mlTGugtwX3%2BTEpgnxb5RlZ9qC7QuiCrBTH7IjVkt138qtit%2B3xBCUM5e6t8CWvZPkX023CwkZedxg%3D%3D&ppt=hp&ppn=homepage&ssid=zb9cipssn40000001660915046072&qH=ea24260ef5764089\n",
      "https://www.flipkart.com/xtoon-modern-trendy-sneakers-boot-men/p/itmf41c414e80b5c?pid=SHOGEYNYKBHGMDH6&lid=LSTSHOGEYNYKBHGMDH6PGFRKV&marketplace=FLIPKART&q=Sneakers&store=osp&srno=s_1_29&otracker=search&otracker1=search&fm=organic&iid=3b908c3f-80c8-4cf5-a6b8-57ee08f14b0d.SHOGEYNYKBHGMDH6.SEARCH&ppt=hp&ppn=homepage&ssid=zb9cipssn40000001660915046072&qH=ea24260ef5764089\n",
      "https://www.flipkart.com/layasa-sneakers-men/p/itmd4f14e57cdd4a?pid=SHOGBY69V3G8W89X&lid=LSTSHOGBY69V3G8W89XC32TNJ&marketplace=FLIPKART&q=Sneakers&store=osp&srno=s_1_30&otracker=search&otracker1=search&fm=organic&iid=3b908c3f-80c8-4cf5-a6b8-57ee08f14b0d.SHOGBY69V3G8W89X.SEARCH&ppt=hp&ppn=homepage&ssid=zb9cipssn40000001660915046072&qH=ea24260ef5764089\n",
      "https://www.flipkart.com/magnolia-sneakers-men/p/itm084a85e2c38f6?pid=SHOG9MPQTHHHFKWF&lid=LSTSHOG9MPQTHHHFKWFK1RB7D&marketplace=FLIPKART&q=Sneakers&store=osp&srno=s_1_31&otracker=search&otracker1=search&fm=organic&iid=3b908c3f-80c8-4cf5-a6b8-57ee08f14b0d.SHOG9MPQTHHHFKWF.SEARCH&ppt=hp&ppn=homepage&ssid=zb9cipssn40000001660915046072&qH=ea24260ef5764089\n",
      "https://www.flipkart.com/u-s-polo-assn-gaiman-2-o-sneakers-men/p/itm182e2363cd75d?pid=SHOG4Q5HGVEPCEJM&lid=LSTSHOG4Q5HGVEPCEJMMQY9AM&marketplace=FLIPKART&q=Sneakers&store=osp&srno=s_1_32&otracker=search&otracker1=search&fm=organic&iid=en_R8iES%2FGp6mlTGugtwX3%2BTEpgnxb5RlZ9qC7QuiCrBTE%2F28UkUoc6jfjsE9o0KwS%2F5OWkZPW3uvBWGhM5PEcWNw%3D%3D&ppt=hp&ppn=homepage&ssid=zb9cipssn40000001660915046072&qH=ea24260ef5764089\n",
      "https://www.flipkart.com/layasa-supr-sneakers-men/p/itm656d9eabd539b?pid=SHOGYDD8QBGGWGHG&lid=LSTSHOGYDD8QBGGWGHGQBJRMU&marketplace=FLIPKART&q=Sneakers&store=osp&srno=s_1_33&otracker=search&otracker1=search&fm=organic&iid=3b908c3f-80c8-4cf5-a6b8-57ee08f14b0d.SHOGYDD8QBGGWGHG.SEARCH&ppt=hp&ppn=homepage&ssid=zb9cipssn40000001660915046072&qH=ea24260ef5764089\n",
      "https://www.flipkart.com/magnolia-sneakers-men/p/itmb42a681797f2d?pid=SHOGYAAFUZKMR64D&lid=LSTSHOGYAAFUZKMR64DI8THYW&marketplace=FLIPKART&q=Sneakers&store=osp&srno=s_1_34&otracker=search&otracker1=search&fm=organic&iid=3b908c3f-80c8-4cf5-a6b8-57ee08f14b0d.SHOGYAAFUZKMR64D.SEARCH&ppt=hp&ppn=homepage&ssid=zb9cipssn40000001660915046072&qH=ea24260ef5764089\n",
      "https://www.flipkart.com/scatchite-sneakers-men/p/itmc13680b1d9604?pid=SHOFUDSUHXHE67UG&lid=LSTSHOFUDSUHXHE67UGEOY0IV&marketplace=FLIPKART&q=Sneakers&store=osp&srno=s_1_35&otracker=search&otracker1=search&fm=organic&iid=3b908c3f-80c8-4cf5-a6b8-57ee08f14b0d.SHOFUDSUHXHE67UG.SEARCH&ppt=hp&ppn=homepage&ssid=zb9cipssn40000001660915046072&qH=ea24260ef5764089\n",
      "https://www.flipkart.com/layasa-sneakers-women/p/itmbe780afaf46ec?pid=SHOGGZFBYWCGJZJS&lid=LSTSHOGGZFBYWCGJZJSQ7ECHS&marketplace=FLIPKART&q=Sneakers&store=osp&srno=s_1_36&otracker=search&otracker1=search&fm=organic&iid=en_R8iES%2FGp6mlTGugtwX3%2BTEpgnxb5RlZ9qC7QuiCrBTEcTXx8iMU7pk9XM3WXX8nRz1PF3a8PwGuaHao2XtEg2g%3D%3D&ppt=hp&ppn=homepage&ssid=zb9cipssn40000001660915046072&qH=ea24260ef5764089\n",
      "https://www.flipkart.com/shoes-bank-white-sneaker-men-s-boy-s-sneakers-men/p/itmf9p2zdypz2jyt?pid=SHOF9Z76DWFGAFWY&lid=LSTSHOF9Z76DWFGAFWYSDVYDU&marketplace=FLIPKART&q=Sneakers&store=osp&srno=s_1_37&otracker=search&otracker1=search&fm=organic&iid=3b908c3f-80c8-4cf5-a6b8-57ee08f14b0d.SHOF9Z76DWFGAFWY.SEARCH&ppt=hp&ppn=homepage&ssid=zb9cipssn40000001660915046072&qH=ea24260ef5764089\n",
      "https://www.flipkart.com/deals4you-sneakers-women/p/itmcd93c1e3b2a4e?pid=SHOGBCY38QCMM3YH&lid=LSTSHOGBCY38QCMM3YH2J2XEV&marketplace=FLIPKART&q=Sneakers&store=osp&srno=s_1_38&otracker=search&otracker1=search&fm=organic&iid=3b908c3f-80c8-4cf5-a6b8-57ee08f14b0d.SHOGBCY38QCMM3YH.SEARCH&ppt=hp&ppn=homepage&ssid=zb9cipssn40000001660915046072&qH=ea24260ef5764089\n",
      "https://www.flipkart.com/puma-rebound-joy-sneakers-men/p/itm616f0cfb0fc23?pid=SHOFZFG5FH9U3C88&lid=LSTSHOFZFG5FH9U3C888G7GKR&marketplace=FLIPKART&q=Sneakers&store=osp&srno=s_1_39&otracker=search&otracker1=search&fm=organic&iid=3b908c3f-80c8-4cf5-a6b8-57ee08f14b0d.SHOFZFG5FH9U3C88.SEARCH&ppt=hp&ppn=homepage&ssid=zb9cipssn40000001660915046072&qH=ea24260ef5764089\n",
      "https://www.flipkart.com/roadster-sneakers-men/p/itmd470b0c4f0632?pid=SHOG8H2JZDJXUUEU&lid=LSTSHOG8H2JZDJXUUEU86HK3Q&marketplace=FLIPKART&q=Sneakers&store=osp&srno=s_1_40&otracker=search&otracker1=search&fm=organic&iid=en_R8iES%2FGp6mlTGugtwX3%2BTEpgnxb5RlZ9qC7QuiCrBTFA8CPMpasaDlcm%2BBph1TKi3T6Qa84%2BYOOhBL7JsCii6w%3D%3D&ppt=hp&ppn=homepage&ssid=zb9cipssn40000001660915046072&qH=ea24260ef5764089\n"
     ]
    }
   ],
   "source": [
    "#getting all the url using get_attribute from href.\n",
    "\n",
    "for i in url:\n",
    "    print(i.get_attribute('href'))"
   ]
  },
  {
   "cell_type": "code",
   "execution_count": 177,
   "id": "0597aa4d",
   "metadata": {},
   "outputs": [],
   "source": [
    "brand=[]\n",
    "#extracting data from 3 pages at one time using this code \n",
    "start=0\n",
    "end=3\n",
    "for i in range(start,end):\n",
    "    b_tag=driver.find_elements(By.XPATH,'//div[@class=\"_2WkVRV\"]')[:100]\n",
    "    for i in b_tag:\n",
    "        bran=i.text\n",
    "        brand.append(bran)\n",
    "    next_button=driver.find_element(By.XPATH,'//a[@class=\"_1LKTO3\"]')\n",
    "    next_button.click()\n",
    "    time.sleep(3)"
   ]
  },
  {
   "cell_type": "code",
   "execution_count": 178,
   "id": "c4429ca2",
   "metadata": {},
   "outputs": [],
   "source": [
    "price=[]"
   ]
  },
  {
   "cell_type": "code",
   "execution_count": 179,
   "id": "433b2127",
   "metadata": {},
   "outputs": [],
   "source": [
    "#scraping data from the next pages also using this code\n",
    "\n",
    "start=0\n",
    "end=3\n",
    "for i in range(start,end):\n",
    "    p_tag=driver.find_elements(By.XPATH,'//div[@class=\"_30jeq3\"]')[:100]\n",
    "    for i in p_tag:\n",
    "        pri=i.text\n",
    "        price.append(pri)\n",
    "    next_button=driver.find_element(By.XPATH,'//a[@class=\"_1LKTO3\"]')\n",
    "    next_button.click()\n",
    "    time.sleep(3)"
   ]
  },
  {
   "cell_type": "code",
   "execution_count": 180,
   "id": "844aeb21",
   "metadata": {},
   "outputs": [],
   "source": [
    "discount=[]"
   ]
  },
  {
   "cell_type": "code",
   "execution_count": 181,
   "id": "d82f69c3",
   "metadata": {},
   "outputs": [],
   "source": [
    "#scraping data from the next pages also using this code\n",
    "\n",
    "start=0\n",
    "end=3\n",
    "for i in range(start,end):\n",
    "    d_tag=driver.find_elements(By.XPATH,'//div[@class=\"_3Ay6Sb\"]')[:100]\n",
    "    for i in d_tag:\n",
    "        dis=i.text\n",
    "        discount.append(dis)\n",
    "    next_button=driver.find_element(By.XPATH,'//a[@class=\"_1LKTO3\"]')\n",
    "    next_button.click()\n",
    "    time.sleep(3)"
   ]
  },
  {
   "cell_type": "code",
   "execution_count": 182,
   "id": "318805b8",
   "metadata": {},
   "outputs": [],
   "source": [
    "pro_descr=[]"
   ]
  },
  {
   "cell_type": "code",
   "execution_count": 183,
   "id": "d430751b",
   "metadata": {},
   "outputs": [],
   "source": [
    "#scraping data from the next pages also using this code\n",
    "\n",
    "start=0\n",
    "end=3\n",
    "for i in range(start,end):\n",
    "    d_tag=driver.find_elements(By.XPATH,'//a[@class=\"IRpwTa\"]')[:100]\n",
    "    for i in d_tag[0:100]:\n",
    "        de=i.text\n",
    "        pro_descr.append(de)\n",
    "    next_button=driver.find_element(By.XPATH,'//a[@class=\"_1LKTO3\"]')\n",
    "    next_button.click()\n",
    "    time.sleep(3)"
   ]
  },
  {
   "cell_type": "code",
   "execution_count": null,
   "id": "48212785",
   "metadata": {},
   "outputs": [],
   "source": []
  },
  {
   "cell_type": "code",
   "execution_count": null,
   "id": "2ca37e09",
   "metadata": {},
   "outputs": [],
   "source": []
  },
  {
   "cell_type": "markdown",
   "id": "0f1a853b",
   "metadata": {},
   "source": [
    "ANSWER-8"
   ]
  },
  {
   "cell_type": "code",
   "execution_count": 207,
   "id": "b6e81081",
   "metadata": {},
   "outputs": [],
   "source": [
    "#importing all the important libraries.\n",
    "\n",
    "import selenium\n",
    "import pandas as pd\n",
    "import time\n",
    "import warnings\n",
    "warnings.filterwarnings('ignore')\n",
    "from selenium import webdriver\n",
    "from selenium.webdriver.common.by import By\n",
    "from selenium.common.exceptions import StaleElementReferenceException, NoSuchElementException"
   ]
  },
  {
   "cell_type": "code",
   "execution_count": 221,
   "id": "bccecfae",
   "metadata": {},
   "outputs": [],
   "source": [
    "#calling webdriver chrome in driver variable.\n",
    "driver=webdriver.Chrome(r'chromedriver.exe')"
   ]
  },
  {
   "cell_type": "code",
   "execution_count": 222,
   "id": "5ed5e07b",
   "metadata": {},
   "outputs": [],
   "source": [
    "#getting all the data of site on the driver or we can say opening the link.\n",
    "\n",
    "driver.get('https://www.amazon.in/')"
   ]
  },
  {
   "cell_type": "code",
   "execution_count": 223,
   "id": "43f256f5",
   "metadata": {},
   "outputs": [],
   "source": [
    "#SENDING laptop text into the search field.\n",
    "\n",
    "prod=driver.find_element(By.XPATH,'/html/body/div[1]/header/div/div[1]/div[2]/div/form/div[2]/div[1]/input')\n",
    "prod.send_keys('Laptop')"
   ]
  },
  {
   "cell_type": "code",
   "execution_count": 224,
   "id": "f86f7264",
   "metadata": {},
   "outputs": [],
   "source": [
    "#clicking on the search button using code.\n",
    "\n",
    "search=driver.find_element(By.XPATH,'/html/body/div[1]/header/div/div[1]/div[2]/div/form/div[3]/div/span/input')\n",
    "search.click()"
   ]
  },
  {
   "cell_type": "code",
   "execution_count": 226,
   "id": "0746fd0e",
   "metadata": {},
   "outputs": [],
   "source": [
    "#selecting the mentioned checkbox asked in the question.\n",
    "\n",
    "cpu_checkbox=driver.find_element(By.XPATH,'/html/body/div[1]/div[2]/div[1]/div[2]/div/div[3]/span/div[1]/div/div/div[6]/ul[4]/li[13]/span/a/div/label/i')\n",
    "cpu_checkbox.click()"
   ]
  },
  {
   "cell_type": "code",
   "execution_count": 227,
   "id": "71eafa0f",
   "metadata": {},
   "outputs": [],
   "source": [
    "#scraping title of the product using xpath.\n",
    "\n",
    "title=[]\n",
    "name_tag=driver.find_elements(By.XPATH,'//div[@class=\"a-section a-spacing-none puis-padding-right-small s-title-instructions-style\"]')[:10]\n",
    "for i in name_tag:\n",
    "    title.append(i.text)"
   ]
  },
  {
   "cell_type": "code",
   "execution_count": 228,
   "id": "013af9c6",
   "metadata": {},
   "outputs": [],
   "source": [
    "#scraping rating using xpath.\n",
    "\n",
    "global_rating=[]\n",
    "r_tag=driver.find_elements(By.XPATH,'//div[@class=\"a-row a-size-small\"]')[:10]\n",
    "for i in r_tag:\n",
    "    global_rating.append(i.text)"
   ]
  },
  {
   "cell_type": "code",
   "execution_count": 229,
   "id": "2fe00097",
   "metadata": {},
   "outputs": [],
   "source": [
    "#scraping price using xpath.\n",
    "\n",
    "price=[]\n",
    "p_tag=driver.find_elements(By.XPATH,'//span[@class=\"a-price-whole\"]')[:10]\n",
    "for i in p_tag:\n",
    "    pri=i.text\n",
    "    price.append(pri)"
   ]
  },
  {
   "cell_type": "code",
   "execution_count": 231,
   "id": "f16b95ea",
   "metadata": {},
   "outputs": [
    {
     "name": "stdout",
     "output_type": "stream",
     "text": [
      "10 10 10\n"
     ]
    }
   ],
   "source": [
    "#creating dataframe from the data that has been asked to collect.\n",
    "\n",
    "print(len(title),len(price),len(global_rating))"
   ]
  },
  {
   "cell_type": "code",
   "execution_count": null,
   "id": "abb4d896",
   "metadata": {},
   "outputs": [],
   "source": []
  },
  {
   "cell_type": "code",
   "execution_count": null,
   "id": "9102df52",
   "metadata": {},
   "outputs": [],
   "source": []
  },
  {
   "cell_type": "markdown",
   "id": "5458f6a2",
   "metadata": {},
   "source": [
    "ANSWER-9"
   ]
  },
  {
   "cell_type": "code",
   "execution_count": 60,
   "id": "93495215",
   "metadata": {},
   "outputs": [],
   "source": [
    "#importing all the important libraries.\n",
    "\n",
    "import selenium\n",
    "import pandas as pd\n",
    "import time\n",
    "import warnings\n",
    "warnings.filterwarnings('ignore')\n",
    "from selenium import webdriver\n",
    "from selenium.webdriver.common.by import By\n",
    "from selenium.common.exceptions import StaleElementReferenceException, NoSuchElementException\n"
   ]
  },
  {
   "cell_type": "code",
   "execution_count": 33,
   "id": "90db4a6e",
   "metadata": {},
   "outputs": [],
   "source": [
    "#calling webdriver chrome in driver variable.\n",
    "driver=webdriver.Chrome(r'chromedriver.exe')"
   ]
  },
  {
   "cell_type": "code",
   "execution_count": 34,
   "id": "4b21084c",
   "metadata": {},
   "outputs": [],
   "source": [
    "#getting all the data of site on the driver or we can say opening the link.\n",
    "\n",
    "driver.get('https://www.ambitionbox.com/')"
   ]
  },
  {
   "cell_type": "code",
   "execution_count": 35,
   "id": "8b3f625c",
   "metadata": {},
   "outputs": [],
   "source": [
    "#clicking on the job button using code.\n",
    "\n",
    "job=driver.find_element(By.CLASS_NAME,\"navItemLink\")\n",
    "job.click()"
   ]
  },
  {
   "cell_type": "code",
   "execution_count": 36,
   "id": "6537a0a0",
   "metadata": {},
   "outputs": [],
   "source": [
    "#entering data scientist in the designation field using code.\n",
    "\n",
    "designation=driver.find_element(By.XPATH,'/html/body/div/div/div/div[2]/div[1]/div[1]/div/div/div/div/span/input')\n",
    "designation.send_keys('Data scientist')\n",
    "\n",
    "#clicking on the search button using code.\n",
    "\n",
    "search=driver.find_element(By.CLASS_NAME,\"ctas-btn-medium\")\n",
    "search.click()"
   ]
  },
  {
   "cell_type": "code",
   "execution_count": 37,
   "id": "e2c263c0",
   "metadata": {},
   "outputs": [],
   "source": [
    "#clicking on the location button using code.\n",
    "\n",
    "loc=driver.find_element(By.XPATH,'/html/body/div/div/div/div[2]/div[1]/div[2]/div[1]/div/div/div/div[2]/div[1]/p')\n",
    "loc.click()"
   ]
  },
  {
   "cell_type": "code",
   "execution_count": 38,
   "id": "92e52de4",
   "metadata": {},
   "outputs": [],
   "source": [
    "#sending noida as location in the location field.\n",
    "\n",
    "search_loc=driver.find_element(By.XPATH,'/html/body/div/div/div/div[2]/div[1]/div[2]/div[1]/div/div/div/div[2]/div[2]/div/div[2]/input')\n",
    "search_loc.send_keys('Noida')\n"
   ]
  },
  {
   "cell_type": "code",
   "execution_count": 39,
   "id": "299d7c9d",
   "metadata": {},
   "outputs": [],
   "source": [
    "#clicking on the search button using code.\n",
    "\n",
    "select_loc=driver.find_element(By.XPATH,'/html/body/div/div/div/div[2]/div[1]/div[2]/div[1]/div/div/div/div[2]/div[2]/div/div[3]/div[1]/div[1]/div/label')\n",
    "select_loc.click()"
   ]
  },
  {
   "cell_type": "code",
   "execution_count": 40,
   "id": "67b6a11d",
   "metadata": {},
   "outputs": [],
   "source": [
    "#scraping company name using xpath.\n",
    "\n",
    "company=[]\n",
    "com_tag=driver.find_elements(By.XPATH,'//p[@class=\"company body-medium\"]')\n",
    "for i in com_tag[0:10]:\n",
    "    company.append(i.text)"
   ]
  },
  {
   "cell_type": "code",
   "execution_count": 56,
   "id": "9d4b8aa6",
   "metadata": {},
   "outputs": [],
   "source": [
    "#scraping posted day using xpath.\n",
    "\n",
    "posted=[]\n",
    "pos_tag=driver.find_elements(By.XPATH,'//span[@class=\"body-small-l\"]')\n",
    "for i in pos_tag[0:10]:\n",
    "    posted.append(i.text)"
   ]
  },
  {
   "cell_type": "code",
   "execution_count": 58,
   "id": "8c82e365",
   "metadata": {},
   "outputs": [],
   "source": [
    "#scraping rating using xpath.\n",
    "\n",
    "rating=[]\n",
    "rat_tag=driver.find_elements(By.XPATH,'//span[@class=\"body-small\"]')\n",
    "for i in rat_tag[0:10]:\n",
    "    rating.append(i.text)"
   ]
  },
  {
   "cell_type": "code",
   "execution_count": 59,
   "id": "421d973e",
   "metadata": {},
   "outputs": [
    {
     "data": {
      "text/html": [
       "<div>\n",
       "<style scoped>\n",
       "    .dataframe tbody tr th:only-of-type {\n",
       "        vertical-align: middle;\n",
       "    }\n",
       "\n",
       "    .dataframe tbody tr th {\n",
       "        vertical-align: top;\n",
       "    }\n",
       "\n",
       "    .dataframe thead th {\n",
       "        text-align: right;\n",
       "    }\n",
       "</style>\n",
       "<table border=\"1\" class=\"dataframe\">\n",
       "  <thead>\n",
       "    <tr style=\"text-align: right;\">\n",
       "      <th></th>\n",
       "      <th>COMPANY NAME</th>\n",
       "      <th>POSTED</th>\n",
       "      <th>RATING OF THE COMPANY</th>\n",
       "    </tr>\n",
       "  </thead>\n",
       "  <tbody>\n",
       "    <tr>\n",
       "      <th>0</th>\n",
       "      <td>CBRE South Asia Pvt Ltd</td>\n",
       "      <td>7d ago</td>\n",
       "      <td>4.3</td>\n",
       "    </tr>\n",
       "    <tr>\n",
       "      <th>1</th>\n",
       "      <td>GENPACT India Private Limited</td>\n",
       "      <td>via naukri.com</td>\n",
       "      <td>4.0</td>\n",
       "    </tr>\n",
       "    <tr>\n",
       "      <th>2</th>\n",
       "      <td>Genpact</td>\n",
       "      <td>13hr ago</td>\n",
       "      <td>4.0</td>\n",
       "    </tr>\n",
       "    <tr>\n",
       "      <th>3</th>\n",
       "      <td>Ericsson India Global Services Pvt. Ltd.</td>\n",
       "      <td>via naukri.com</td>\n",
       "      <td>4.3</td>\n",
       "    </tr>\n",
       "    <tr>\n",
       "      <th>4</th>\n",
       "      <td>GENPACT India Private Limited</td>\n",
       "      <td>2d ago</td>\n",
       "      <td>4.0</td>\n",
       "    </tr>\n",
       "    <tr>\n",
       "      <th>5</th>\n",
       "      <td>Optum Global Solutions (India) Private Limited</td>\n",
       "      <td>via iimjobs.com</td>\n",
       "      <td>4.1</td>\n",
       "    </tr>\n",
       "    <tr>\n",
       "      <th>6</th>\n",
       "      <td>Optum Global Solutions (India) Private Limited</td>\n",
       "      <td>17d ago</td>\n",
       "      <td>4.1</td>\n",
       "    </tr>\n",
       "    <tr>\n",
       "      <th>7</th>\n",
       "      <td>Ericsson India Global Services Pvt. Ltd.</td>\n",
       "      <td>via naukri.com</td>\n",
       "      <td>4.3</td>\n",
       "    </tr>\n",
       "    <tr>\n",
       "      <th>8</th>\n",
       "      <td>SOPRA STERIA INDIA LIMITED</td>\n",
       "      <td>10d ago</td>\n",
       "      <td>4.2</td>\n",
       "    </tr>\n",
       "    <tr>\n",
       "      <th>9</th>\n",
       "      <td>EXL Services.com ( I ) Pvt. Ltd.</td>\n",
       "      <td>via naukri.com</td>\n",
       "      <td>3.9</td>\n",
       "    </tr>\n",
       "  </tbody>\n",
       "</table>\n",
       "</div>"
      ],
      "text/plain": [
       "                                     COMPANY NAME           POSTED  \\\n",
       "0                         CBRE South Asia Pvt Ltd           7d ago   \n",
       "1                   GENPACT India Private Limited   via naukri.com   \n",
       "2                                         Genpact         13hr ago   \n",
       "3        Ericsson India Global Services Pvt. Ltd.   via naukri.com   \n",
       "4                   GENPACT India Private Limited           2d ago   \n",
       "5  Optum Global Solutions (India) Private Limited  via iimjobs.com   \n",
       "6  Optum Global Solutions (India) Private Limited          17d ago   \n",
       "7        Ericsson India Global Services Pvt. Ltd.   via naukri.com   \n",
       "8                      SOPRA STERIA INDIA LIMITED          10d ago   \n",
       "9                EXL Services.com ( I ) Pvt. Ltd.   via naukri.com   \n",
       "\n",
       "  RATING OF THE COMPANY  \n",
       "0                   4.3  \n",
       "1                   4.0  \n",
       "2                   4.0  \n",
       "3                   4.3  \n",
       "4                   4.0  \n",
       "5                   4.1  \n",
       "6                   4.1  \n",
       "7                   4.3  \n",
       "8                   4.2  \n",
       "9                   3.9  "
      ]
     },
     "execution_count": 59,
     "metadata": {},
     "output_type": "execute_result"
    }
   ],
   "source": [
    "#creating dataframe from the data that has been asked to collect.\n",
    "\n",
    "job_table=pd.DataFrame({'COMPANY NAME':company,'POSTED':posted,'RATING OF THE COMPANY':rating})\n",
    "job_table"
   ]
  },
  {
   "cell_type": "code",
   "execution_count": null,
   "id": "01c3a293",
   "metadata": {},
   "outputs": [],
   "source": []
  },
  {
   "cell_type": "code",
   "execution_count": null,
   "id": "4bbe6c1b",
   "metadata": {},
   "outputs": [],
   "source": []
  },
  {
   "cell_type": "markdown",
   "id": "ddabd185",
   "metadata": {},
   "source": [
    "ANSWER-10"
   ]
  },
  {
   "cell_type": "code",
   "execution_count": 185,
   "id": "88dec5a5",
   "metadata": {},
   "outputs": [],
   "source": [
    "#importing all the important libraries.\n",
    "\n",
    "import selenium\n",
    "import pandas as pd\n",
    "import time\n",
    "import warnings\n",
    "warnings.filterwarnings('ignore')\n",
    "from selenium import webdriver\n",
    "from selenium.webdriver.common.by import By\n",
    "from selenium.common.exceptions import StaleElementReferenceException, NoSuchElementException\n"
   ]
  },
  {
   "cell_type": "code",
   "execution_count": 186,
   "id": "222b8bbd",
   "metadata": {},
   "outputs": [],
   "source": [
    "#calling webdriver chrome in driver variable.\n",
    "driver=webdriver.Chrome(r'chromedriver.exe')"
   ]
  },
  {
   "cell_type": "code",
   "execution_count": 187,
   "id": "40fcd6dd",
   "metadata": {},
   "outputs": [],
   "source": [
    "#getting all the data of site on the driver or we can say opening the link.\n",
    "\n",
    "driver.get('https://www.ambitionbox.com/')"
   ]
  },
  {
   "cell_type": "code",
   "execution_count": 188,
   "id": "3ff34e42",
   "metadata": {},
   "outputs": [],
   "source": [
    "#clicking on the salary button using code.\n",
    "\n",
    "salary=driver.find_element(By.XPATH,'/html/body/div[1]/nav[2]/div/ul/li[3]')\n",
    "salary.click()"
   ]
  },
  {
   "cell_type": "code",
   "execution_count": 189,
   "id": "ef54d8a8",
   "metadata": {},
   "outputs": [],
   "source": [
    "#after clicking on the salary button a list appears so selecting the option of browse salary from there by clicking on it.\n",
    "\n",
    "salary_browse=driver.find_element(By.XPATH,'/html/body/div[1]/nav[2]/div/ul/li[3]/div/ul/li[1]/div')\n",
    "salary_browse.click()"
   ]
  },
  {
   "cell_type": "code",
   "execution_count": 190,
   "id": "d61aaf18",
   "metadata": {},
   "outputs": [],
   "source": [
    "#sending data scientist in the field of job search.\n",
    "\n",
    "job=driver.find_element(By.XPATH,'/html/body/div/div/div/main/section[1]/div[2]/div[1]/span/input')\n",
    "job.send_keys('data scientist')"
   ]
  },
  {
   "cell_type": "code",
   "execution_count": 199,
   "id": "3f5d6981",
   "metadata": {},
   "outputs": [],
   "source": [
    "#clicking on the data science option that appears using code.\n",
    "\n",
    "search=driver.find_element(By.CLASS_NAME,\"tt_text\")\n",
    "search.click()"
   ]
  },
  {
   "cell_type": "code",
   "execution_count": 200,
   "id": "6671673a",
   "metadata": {},
   "outputs": [],
   "source": [
    "#scraping company name using xpath.\n",
    "\n",
    "company=[]\n",
    "com_tag=driver.find_elements(By.XPATH,'//div[@class=\"company-info\"]')\n",
    "for i in com_tag[:10]:\n",
    "    company.append(i.text.replace('\\nData Scientist Salary','').split())"
   ]
  },
  {
   "cell_type": "code",
   "execution_count": 201,
   "id": "4760ff80",
   "metadata": {},
   "outputs": [],
   "source": [
    "#scraping salary record using xpath.\n",
    "\n",
    "salrecord=[]\n",
    "record=driver.find_elements(By.XPATH,'//span[@class=\"datapoints\"]')\n",
    "for i in record:\n",
    "    salrecord.append(i.text)"
   ]
  },
  {
   "cell_type": "code",
   "execution_count": 202,
   "id": "819eecff",
   "metadata": {},
   "outputs": [],
   "source": [
    "#scraping average salary of first 10 job.\n",
    "\n",
    "avg_sal=[]\n",
    "average=driver.find_elements(By.XPATH,'//p[@class=\"averageCtc\"]')\n",
    "for i in average:\n",
    "    avg_sal.append(i.text)"
   ]
  },
  {
   "cell_type": "code",
   "execution_count": 203,
   "id": "eae67335",
   "metadata": {},
   "outputs": [],
   "source": [
    "#scraping experience required for the job.\n",
    "\n",
    "exp=[]\n",
    "expreq=driver.find_elements(By.XPATH,'//div[@class=\"sbold-list-header\"]')\n",
    "for i in expreq:\n",
    "    exp.append(i.text.split()[:3])"
   ]
  },
  {
   "cell_type": "code",
   "execution_count": 204,
   "id": "f7f482b4",
   "metadata": {},
   "outputs": [],
   "source": [
    "#scraping the maximum salary.\n",
    "\n",
    "maxsal=[]\n",
    "maxx_tag=driver.find_elements(By.XPATH,'//div[@class=\"salary-values\"]/div[2]')\n",
    "for i in maxx_tag:\n",
    "    maxsal.append(i.text)\n",
    "    \n",
    "#scraping the minimum salary\n",
    "    \n",
    "minsal=[]\n",
    "minn_tag=driver.find_elements(By.XPATH,'//div[@class=\"salary-values\"]/div[1]')\n",
    "for i in minn_tag:\n",
    "    minsal.append(i.text)\n"
   ]
  },
  {
   "cell_type": "code",
   "execution_count": 205,
   "id": "c75b9043",
   "metadata": {},
   "outputs": [
    {
     "name": "stdout",
     "output_type": "stream",
     "text": [
      "10 10 10 10 10 10\n"
     ]
    }
   ],
   "source": [
    "#checking the length of the variables .\n",
    "\n",
    "print(len(company),len(avg_sal),len(maxsal),len(minsal),len(exp),len(salrecord))"
   ]
  },
  {
   "cell_type": "code",
   "execution_count": 206,
   "id": "21063bb3",
   "metadata": {
    "scrolled": true
   },
   "outputs": [
    {
     "data": {
      "text/html": [
       "<div>\n",
       "<style scoped>\n",
       "    .dataframe tbody tr th:only-of-type {\n",
       "        vertical-align: middle;\n",
       "    }\n",
       "\n",
       "    .dataframe tbody tr th {\n",
       "        vertical-align: top;\n",
       "    }\n",
       "\n",
       "    .dataframe thead th {\n",
       "        text-align: right;\n",
       "    }\n",
       "</style>\n",
       "<table border=\"1\" class=\"dataframe\">\n",
       "  <thead>\n",
       "    <tr style=\"text-align: right;\">\n",
       "      <th></th>\n",
       "      <th>COMPANY</th>\n",
       "      <th>TOTAL SALARY RECORD</th>\n",
       "      <th>MAXIMUM SALARY</th>\n",
       "      <th>MINIMUM SALARY</th>\n",
       "      <th>AVERAGE SALARY</th>\n",
       "      <th>EXPERIENCE REQUIRED</th>\n",
       "    </tr>\n",
       "  </thead>\n",
       "  <tbody>\n",
       "    <tr>\n",
       "      <th>0</th>\n",
       "      <td>[Walmart, 3-4, yrs, experience, (based, on, 22...</td>\n",
       "      <td>(based on 22 salaries)</td>\n",
       "      <td>₹ 45.0L</td>\n",
       "      <td>₹ 25.0L</td>\n",
       "      <td>₹ 31.7L</td>\n",
       "      <td>[3-4, yrs, experience]</td>\n",
       "    </tr>\n",
       "    <tr>\n",
       "      <th>1</th>\n",
       "      <td>[Ab, Inbev, 2-4, yrs, experience, (based, on, ...</td>\n",
       "      <td>(based on 53 salaries)</td>\n",
       "      <td>₹ 25.5L</td>\n",
       "      <td>₹ 15.0L</td>\n",
       "      <td>₹ 19.7L</td>\n",
       "      <td>[2-4, yrs, experience]</td>\n",
       "    </tr>\n",
       "    <tr>\n",
       "      <th>2</th>\n",
       "      <td>[Optum, 2-4, yrs, experience, (based, on, 48, ...</td>\n",
       "      <td>(based on 48 salaries)</td>\n",
       "      <td>₹ 22.6L</td>\n",
       "      <td>₹ 11.0L</td>\n",
       "      <td>₹ 16.5L</td>\n",
       "      <td>[2-4, yrs, experience]</td>\n",
       "    </tr>\n",
       "    <tr>\n",
       "      <th>3</th>\n",
       "      <td>[ZS, 1-2, yrs, experience, (based, on, 33, sal...</td>\n",
       "      <td>(based on 33 salaries)</td>\n",
       "      <td>₹ 22.0L</td>\n",
       "      <td>₹ 11.0L</td>\n",
       "      <td>₹ 15.7L</td>\n",
       "      <td>[1-2, yrs, experience]</td>\n",
       "    </tr>\n",
       "    <tr>\n",
       "      <th>4</th>\n",
       "      <td>[Fractal, Analytics, 2-4, yrs, experience, (ba...</td>\n",
       "      <td>(based on 109 salaries)</td>\n",
       "      <td>₹ 23.0L</td>\n",
       "      <td>₹ 9.0L</td>\n",
       "      <td>₹ 15.2L</td>\n",
       "      <td>[2-4, yrs, experience]</td>\n",
       "    </tr>\n",
       "    <tr>\n",
       "      <th>5</th>\n",
       "      <td>[Tiger, Analytics, 2-4, yrs, experience, (base...</td>\n",
       "      <td>(based on 65 salaries)</td>\n",
       "      <td>₹ 20.0L</td>\n",
       "      <td>₹ 9.0L</td>\n",
       "      <td>₹ 14.7L</td>\n",
       "      <td>[2-4, yrs, experience]</td>\n",
       "    </tr>\n",
       "    <tr>\n",
       "      <th>6</th>\n",
       "      <td>[Legato, Health, Technologies, 4, yrs, experie...</td>\n",
       "      <td>(based on 11 salaries)</td>\n",
       "      <td>₹ 20.0L</td>\n",
       "      <td>₹ 11.0L</td>\n",
       "      <td>₹ 14.5L</td>\n",
       "      <td>[4, yrs, experience]</td>\n",
       "    </tr>\n",
       "    <tr>\n",
       "      <th>7</th>\n",
       "      <td>[Tredence, 3, yrs, experience, (based, on, 12,...</td>\n",
       "      <td>(based on 12 salaries)</td>\n",
       "      <td>₹ 17.5L</td>\n",
       "      <td>₹ 8.8L</td>\n",
       "      <td>₹ 14.1L</td>\n",
       "      <td>[3, yrs, experience]</td>\n",
       "    </tr>\n",
       "    <tr>\n",
       "      <th>8</th>\n",
       "      <td>[UnitedHealth, 2-4, yrs, experience, (based, o...</td>\n",
       "      <td>(based on 91 salaries)</td>\n",
       "      <td>₹ 20.5L</td>\n",
       "      <td>₹ 8.0L</td>\n",
       "      <td>₹ 13.6L</td>\n",
       "      <td>[2-4, yrs, experience]</td>\n",
       "    </tr>\n",
       "    <tr>\n",
       "      <th>9</th>\n",
       "      <td>[Ford, Motor, 3-4, yrs, experience, (based, on...</td>\n",
       "      <td>(based on 21 salaries)</td>\n",
       "      <td>₹ 18.0L</td>\n",
       "      <td>₹ 10.0L</td>\n",
       "      <td>₹ 13.5L</td>\n",
       "      <td>[3-4, yrs, experience]</td>\n",
       "    </tr>\n",
       "  </tbody>\n",
       "</table>\n",
       "</div>"
      ],
      "text/plain": [
       "                                             COMPANY      TOTAL SALARY RECORD  \\\n",
       "0  [Walmart, 3-4, yrs, experience, (based, on, 22...   (based on 22 salaries)   \n",
       "1  [Ab, Inbev, 2-4, yrs, experience, (based, on, ...   (based on 53 salaries)   \n",
       "2  [Optum, 2-4, yrs, experience, (based, on, 48, ...   (based on 48 salaries)   \n",
       "3  [ZS, 1-2, yrs, experience, (based, on, 33, sal...   (based on 33 salaries)   \n",
       "4  [Fractal, Analytics, 2-4, yrs, experience, (ba...  (based on 109 salaries)   \n",
       "5  [Tiger, Analytics, 2-4, yrs, experience, (base...   (based on 65 salaries)   \n",
       "6  [Legato, Health, Technologies, 4, yrs, experie...   (based on 11 salaries)   \n",
       "7  [Tredence, 3, yrs, experience, (based, on, 12,...   (based on 12 salaries)   \n",
       "8  [UnitedHealth, 2-4, yrs, experience, (based, o...   (based on 91 salaries)   \n",
       "9  [Ford, Motor, 3-4, yrs, experience, (based, on...   (based on 21 salaries)   \n",
       "\n",
       "  MAXIMUM SALARY MINIMUM SALARY AVERAGE SALARY     EXPERIENCE REQUIRED  \n",
       "0        ₹ 45.0L        ₹ 25.0L        ₹ 31.7L  [3-4, yrs, experience]  \n",
       "1        ₹ 25.5L        ₹ 15.0L        ₹ 19.7L  [2-4, yrs, experience]  \n",
       "2        ₹ 22.6L        ₹ 11.0L        ₹ 16.5L  [2-4, yrs, experience]  \n",
       "3        ₹ 22.0L        ₹ 11.0L        ₹ 15.7L  [1-2, yrs, experience]  \n",
       "4        ₹ 23.0L         ₹ 9.0L        ₹ 15.2L  [2-4, yrs, experience]  \n",
       "5        ₹ 20.0L         ₹ 9.0L        ₹ 14.7L  [2-4, yrs, experience]  \n",
       "6        ₹ 20.0L        ₹ 11.0L        ₹ 14.5L    [4, yrs, experience]  \n",
       "7        ₹ 17.5L         ₹ 8.8L        ₹ 14.1L    [3, yrs, experience]  \n",
       "8        ₹ 20.5L         ₹ 8.0L        ₹ 13.6L  [2-4, yrs, experience]  \n",
       "9        ₹ 18.0L        ₹ 10.0L        ₹ 13.5L  [3-4, yrs, experience]  "
      ]
     },
     "execution_count": 206,
     "metadata": {},
     "output_type": "execute_result"
    }
   ],
   "source": [
    "#creating dataframe from the data that has been asked to collect.\n",
    "\n",
    "b=pd.DataFrame({'COMPANY':company,'TOTAL SALARY RECORD':salrecord,'MAXIMUM SALARY':maxsal,'MINIMUM SALARY':minsal,'AVERAGE SALARY':avg_sal,'EXPERIENCE REQUIRED':exp})\n",
    "b"
   ]
  },
  {
   "cell_type": "code",
   "execution_count": null,
   "id": "baf8cd27",
   "metadata": {},
   "outputs": [],
   "source": []
  },
  {
   "cell_type": "code",
   "execution_count": null,
   "id": "9e4cb83f",
   "metadata": {},
   "outputs": [],
   "source": []
  },
  {
   "cell_type": "markdown",
   "id": "ce720089",
   "metadata": {},
   "source": [
    "QUESTION 7 WAS ASKED TO SKIP AS THE SITE WASN'T ALLOWING TO SCRAP THE DATA OR INSPECT."
   ]
  },
  {
   "cell_type": "code",
   "execution_count": null,
   "id": "d1f3bbb7",
   "metadata": {},
   "outputs": [],
   "source": []
  }
 ],
 "metadata": {
  "kernelspec": {
   "display_name": "Python 3 (ipykernel)",
   "language": "python",
   "name": "python3"
  },
  "language_info": {
   "codemirror_mode": {
    "name": "ipython",
    "version": 3
   },
   "file_extension": ".py",
   "mimetype": "text/x-python",
   "name": "python",
   "nbconvert_exporter": "python",
   "pygments_lexer": "ipython3",
   "version": "3.9.7"
  }
 },
 "nbformat": 4,
 "nbformat_minor": 5
}
