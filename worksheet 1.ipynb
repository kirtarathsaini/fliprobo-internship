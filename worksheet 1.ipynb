{
 "cells": [
  {
   "cell_type": "markdown",
   "id": "4b166689",
   "metadata": {},
   "source": [
    "# ASSIGNMENT 1--(PYTHON PART)"
   ]
  },
  {
   "cell_type": "markdown",
   "id": "90a81e9c",
   "metadata": {},
   "source": [
    "ANSWER 11."
   ]
  },
  {
   "cell_type": "code",
   "execution_count": 14,
   "id": "c786ed38",
   "metadata": {},
   "outputs": [],
   "source": [
    "import math as m"
   ]
  },
  {
   "cell_type": "code",
   "execution_count": 36,
   "id": "e202ab99",
   "metadata": {},
   "outputs": [
    {
     "data": {
      "text/plain": [
       "120"
      ]
     },
     "execution_count": 36,
     "metadata": {},
     "output_type": "execute_result"
    }
   ],
   "source": [
    "m.factorial(5)"
   ]
  },
  {
   "cell_type": "markdown",
   "id": "b76c86ee",
   "metadata": {},
   "source": [
    "ANSWER 12."
   ]
  },
  {
   "cell_type": "code",
   "execution_count": 29,
   "id": "65bec008",
   "metadata": {},
   "outputs": [
    {
     "name": "stdout",
     "output_type": "stream",
     "text": [
      "enter any number:1\n",
      "1  is neither prime nor composite\n"
     ]
    }
   ],
   "source": [
    "n= int(input(\"enter any number:\"))\n",
    "if (n==0 or n==1):\n",
    "    print(n, \" is neither prime nor composite\")\n",
    "elif n>1 :\n",
    "        for i in range(2,n):\n",
    "                if(n%i==0):\n",
    "                    print(n,\"is not a prime no. It is a composit no.\")\n",
    "                    break\n",
    "        \n",
    "        else:\n",
    "            print(n,\"is not a composite no. It is a prime number\")\n",
    "else:\n",
    "    print(\"please enter a positive number\")"
   ]
  },
  {
   "cell_type": "code",
   "execution_count": 30,
   "id": "58d493d9",
   "metadata": {},
   "outputs": [
    {
     "name": "stdout",
     "output_type": "stream",
     "text": [
      "enter any number:2\n",
      "2 is not a composite no. It is a prime number\n"
     ]
    }
   ],
   "source": [
    "n= int(input(\"enter any number:\"))\n",
    "if (n==0 or n==1):\n",
    "    print(n, \" is neither prime nor composite\")\n",
    "elif n>1 :\n",
    "        for i in range(2,n):\n",
    "                if(n%i==0):\n",
    "                    print(n,\"is not a prime no. It is a composit no.\")\n",
    "                    break\n",
    "        \n",
    "        else:\n",
    "            print(n,\"is not a composite no. It is a prime number\")\n",
    "else:\n",
    "    print(\"please enter a positive number\")"
   ]
  },
  {
   "cell_type": "code",
   "execution_count": 31,
   "id": "0b96892a",
   "metadata": {},
   "outputs": [
    {
     "name": "stdout",
     "output_type": "stream",
     "text": [
      "enter any number:6\n",
      "6 is not a prime no. It is a composit no.\n"
     ]
    }
   ],
   "source": [
    "n= int(input(\"enter any number:\"))\n",
    "if (n==0 or n==1):\n",
    "    print(n, \" is neither prime nor composite\")\n",
    "elif n>1 :\n",
    "        for i in range(2,n):\n",
    "                if(n%i==0):\n",
    "                    print(n,\"is not a prime no. It is a composit no.\")\n",
    "                    break\n",
    "        \n",
    "        else:\n",
    "            print(n,\"is not a composite no. It is a prime number\")\n",
    "else:\n",
    "    print(\"please enter a positive number\")"
   ]
  },
  {
   "cell_type": "markdown",
   "id": "b9b3206d",
   "metadata": {},
   "source": [
    "ANSWER 13"
   ]
  },
  {
   "cell_type": "code",
   "execution_count": 35,
   "id": "6cf34237",
   "metadata": {},
   "outputs": [
    {
     "name": "stdout",
     "output_type": "stream",
     "text": [
      "ENTER A WORD OR TEXT =racecar\n",
      "this text or word is a palindrome\n"
     ]
    }
   ],
   "source": [
    "string=input(\"ENTER A WORD OR TEXT =\")\n",
    "if(string==string[::-1]):\n",
    "    print(\"this text or word is a palindrome\")\n",
    "else:\n",
    "    print(\"this text or word is not a palindrome\")"
   ]
  },
  {
   "cell_type": "code",
   "execution_count": 34,
   "id": "7ad9944e",
   "metadata": {},
   "outputs": [
    {
     "name": "stdout",
     "output_type": "stream",
     "text": [
      "ENTER A WORD OR TEXT =food\n",
      "this text or word is not a palindrome\n"
     ]
    }
   ],
   "source": [
    "string=input(\"ENTER A WORD OR TEXT =\")\n",
    "if(string==string[::-1]):\n",
    "    print(\"this text or word is a palindrome\")\n",
    "else:\n",
    "    print(\"this text or word is not a palindrome\")"
   ]
  },
  {
   "cell_type": "markdown",
   "id": "6910537c",
   "metadata": {},
   "source": [
    "ANSWER 14"
   ]
  },
  {
   "cell_type": "code",
   "execution_count": 7,
   "id": "e2c5a5ee",
   "metadata": {},
   "outputs": [
    {
     "name": "stdout",
     "output_type": "stream",
     "text": [
      "Hypotenuse = 5.0\n",
      "Adjacent = 4.0\n",
      "Opposite = 3.0\n",
      "You know the answer!\n"
     ]
    }
   ],
   "source": [
    "def pythagoras(opposite_side,adjacent_side,hypotenuse):\n",
    "        if opposite_side == str(\"x\"):\n",
    "            return (\"Opposite = \" + str(((hypotenuse**2) - (adjacent_side**2))**0.5))\n",
    "        elif adjacent_side == str(\"x\"):\n",
    "            return (\"Adjacent = \" + str(((hypotenuse**2) - (opposite_side**2))**0.5))\n",
    "        elif hypotenuse == str(\"x\"):\n",
    "            return (\"Hypotenuse = \" + str(((opposite_side**2) + (adjacent_side**2))**0.5))\n",
    "        else:\n",
    "            return \"You know the answer!\"\n",
    "    \n",
    "print(pythagoras(3,4,'x'))\n",
    "print(pythagoras(3,'x',5))\n",
    "print(pythagoras('x',4,5))\n",
    "print(pythagoras(3,4,5))"
   ]
  },
  {
   "cell_type": "markdown",
   "id": "1f00c76b",
   "metadata": {},
   "source": [
    "ANSWER 15"
   ]
  },
  {
   "cell_type": "code",
   "execution_count": 6,
   "id": "b01fa897",
   "metadata": {},
   "outputs": [
    {
     "name": "stdout",
     "output_type": "stream",
     "text": [
      "enter your word please..kuddrat\n",
      "count of all the characters in your given word is :\n",
      "{'k': 1, 'u': 1, 'd': 2, 'r': 1, 'a': 1, 't': 1}\n"
     ]
    }
   ],
   "source": [
    "test_str =input(\"enter your word please..\")\n",
    "all_freq={}\n",
    "for i in test_str:\n",
    "    if i in all_freq:\n",
    "        all_freq[i]+=1\n",
    "    else:\n",
    "        all_freq[i]=1\n",
    "        \n",
    "print(\"count of all the characters in your given word is :\\n\"+str(all_freq))        "
   ]
  },
  {
   "cell_type": "code",
   "execution_count": null,
   "id": "48ed3b78",
   "metadata": {},
   "outputs": [],
   "source": []
  }
 ],
 "metadata": {
  "kernelspec": {
   "display_name": "Python 3 (ipykernel)",
   "language": "python",
   "name": "python3"
  },
  "language_info": {
   "codemirror_mode": {
    "name": "ipython",
    "version": 3
   },
   "file_extension": ".py",
   "mimetype": "text/x-python",
   "name": "python",
   "nbconvert_exporter": "python",
   "pygments_lexer": "ipython3",
   "version": "3.9.7"
  }
 },
 "nbformat": 4,
 "nbformat_minor": 5
}
